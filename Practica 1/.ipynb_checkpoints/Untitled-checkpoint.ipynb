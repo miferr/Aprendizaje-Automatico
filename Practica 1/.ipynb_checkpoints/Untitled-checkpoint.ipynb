{
 "cells": [
  {
   "cell_type": "code",
   "execution_count": null,
   "id": "great-fortune",
   "metadata": {},
   "outputs": [],
   "source": [
    "#   Librerias\n",
    "import numpy as np\n",
    "from pandas.io.parsers import read_csv\n",
    "import matplotlib.pyplot as plt\n",
    "from matplotlib import cm\n",
    "\n",
    "\n",
    "#   Convertimos el .csv en un array de numpy\n",
    "valores = read_csv(\"ex1data2.csv\", header=None).to_numpy().astype(float)\n",
    "\n",
    "#   Separamos las coordenadas en dos arrays, X e Y\n",
    "X = valores[:, :-1]\n",
    "Y = valores[:, -1]\n",
    "\n",
    "#   Obtenemos las dimensiones de la matriz X (n x m)\n",
    "filas = np.shape(X)[0]\n",
    "columnas = np.shape(X)[1]\n",
    "\n",
    "# Definicion de variables\n",
    "theta = [0] * (columnas + 1)\n",
    "alpha = 0.01\n",
    "\n",
    "#   Funcion de normalizacion\n",
    "def normalize():\n",
    "    mu = []\n",
    "    des = []\n",
    "    x_norm = np.empty_like(X)\n",
    "    for i in range(columnas):\n",
    "        #   Calculamos la media y la desviacion\n",
    "        mu.append(np.mean(X[:,i]))\n",
    "        des.append(np.std(X[:,i]))\n",
    "        #   Calculamos el valor normalizado\n",
    "        for k in range(filas):\n",
    "            x_norm[k][i] = (X[k][i] - mu[i]) / des[i]\n",
    "    return x_norm, mu, des\n",
    "\n",
    "#   Funcion de coste\n",
    "def fun_coste():\n",
    "    hip = np.dot(X, theta)\n",
    "    aux = (hip - Y) **2\n",
    "    return aux.sum() / (2 * filas)\n",
    "\n",
    "print(theta)\n",
    "# Metodo de descenso de gradiente vectorizado\n",
    "norm,med,des = normalize()\n",
    "X = np.hstack([np.ones([filas,1]),X])\n",
    "for i in range(10):\n",
    "    th = theta\n",
    "    for i in range(columnas):\n",
    "        print(str((np.dot(X, theta) - Y) * X[:, i]))\n",
    "        #th[i] -= ((alpha/filas) * aux.sum())\n",
    "    \n",
    "\n",
    "print(theta)"
   ]
  }
 ],
 "metadata": {
  "kernelspec": {
   "display_name": "Python 3",
   "language": "python",
   "name": "python3"
  },
  "language_info": {
   "codemirror_mode": {
    "name": "ipython",
    "version": 3
   },
   "file_extension": ".py",
   "mimetype": "text/x-python",
   "name": "python",
   "nbconvert_exporter": "python",
   "pygments_lexer": "ipython3",
   "version": "3.8.0"
  }
 },
 "nbformat": 4,
 "nbformat_minor": 5
}
