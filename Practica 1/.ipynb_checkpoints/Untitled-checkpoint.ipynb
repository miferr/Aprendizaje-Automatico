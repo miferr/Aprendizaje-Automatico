{
 "cells": [
  {
   "cell_type": "code",
   "execution_count": 55,
   "id": "indian-bundle",
   "metadata": {},
   "outputs": [
    {
     "name": "stdout",
     "output_type": "stream",
     "text": [
      "12497079599.523565\n",
      "293081.4643348959\n"
     ]
    }
   ],
   "source": [
    "#   Librerias\n",
    "import numpy as np\n",
    "from pandas.io.parsers import read_csv\n",
    "import matplotlib.pyplot as plt\n",
    "from matplotlib import cm\n",
    "\n",
    "\n",
    "#   Convertimos el .csv en un array de numpy\n",
    "valores = read_csv(\"ex1data2.csv\", header=None).to_numpy().astype(float)\n",
    "\n",
    "#   Separamos las coordenadas en dos arrays, X e Y\n",
    "X = valores[:, :-1]\n",
    "Y = valores[:, -1]\n",
    "\n",
    "#   Obtenemos las dimensiones de la matriz X (n x m)\n",
    "filas = np.shape(X)[0]\n",
    "columnas = np.shape(X)[1]\n",
    "\n",
    "# Definicion de variables\n",
    "theta = [0] * (columnas + 1)\n",
    "alpha = 0.01\n",
    "\n",
    "#   Funcion de normalizacion\n",
    "def normalize():\n",
    "    mu = []\n",
    "    des = []\n",
    "    x_norm = np.empty_like(X)\n",
    "    for i in range(columnas):\n",
    "        #   Calculamos la media y la desviacion\n",
    "        mu.append(np.mean(X[:,i]))\n",
    "        des.append(np.std(X[:,i]))\n",
    "        #   Calculamos el valor normalizado\n",
    "        for k in range(filas):\n",
    "            x_norm[k][i] = (X[k][i] - mu[i]) / des[i]\n",
    "    return x_norm, mu, des\n",
    "\n",
    "#   Funcion de coste\n",
    "def fun_coste():\n",
    "    hip = np.dot(X, theta)\n",
    "    aux = (hip - Y) **2\n",
    "    return aux.sum() / (2 * filas)\n",
    "\n",
    "\n",
    "# Metodo de descenso de gradiente vectorizado\n",
    "def gradiente(X):\n",
    "    norm,med,des = normalize()\n",
    "    X = np.hstack([np.ones([filas,1]),X])\n",
    "    th = theta\n",
    "    for i in range(columnas):\n",
    "        aux = (np.dot(X, theta) - Y) * X[:, i]\n",
    "        th[i] -= ((alpha/filas) * aux.sum())\n",
    "    return th\n",
    "    \n",
    "\n",
    "def ecuacion_normal(X):\n",
    "    X = np.hstack([np.ones([filas,1]),X])\n",
    "    th = np.linalg.inv(np.transpose(X).dot(X)).dot(np.transpose(X)).dot(Y)\n",
    "    return th\n",
    "\n",
    "\n",
    "th = gradiente(X)\n",
    "metros = 1650\n",
    "habitaciones = 3\n",
    "precio = th[0] + metros*th[1] + habitaciones*th[2]\n",
    "print(precio)\n",
    "th = ecuacion_normal(X)\n",
    "precio = th[0] + metros*th[1] + habitaciones*th[2]\n",
    "print(precio)"
   ]
  }
 ],
 "metadata": {
  "kernelspec": {
   "display_name": "Python 3",
   "language": "python",
   "name": "python3"
  },
  "language_info": {
   "codemirror_mode": {
    "name": "ipython",
    "version": 3
   },
   "file_extension": ".py",
   "mimetype": "text/x-python",
   "name": "python",
   "nbconvert_exporter": "python",
   "pygments_lexer": "ipython3",
   "version": "3.8.0"
  }
 },
 "nbformat": 4,
 "nbformat_minor": 5
}
