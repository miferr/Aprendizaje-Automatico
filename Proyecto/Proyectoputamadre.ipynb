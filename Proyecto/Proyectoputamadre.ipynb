{
 "cells": [
  {
   "cell_type": "code",
   "execution_count": 115,
   "metadata": {},
   "outputs": [],
   "source": [
    "import numpy as np\n",
    "import pandas as pd\n",
    "\n",
    "#   Cargamos los datos\n",
    "datos = pd.read_csv(\"water_potability.csv\")\n",
    "means = datos.mean(axis=0, skipna=True)\n",
    "\n",
    "for e in datos:\n",
    "    datos[e] = datos[e].fillna(means[e])\n",
    "    \n",
    "\n",
    "X = datos.iloc[:,:-1]\n",
    "Y = datos.iloc[:,-1]\n",
    "Y = np.asmatrix(Y)\n",
    "#Hasta aqui datos cargados y sustituimos los nan por la media"
   ]
  },
  {
   "cell_type": "code",
   "execution_count": 128,
   "metadata": {},
   "outputs": [],
   "source": [
    "def normalize1(df):\n",
    "    result = df.copy()\n",
    "    for feature_name in df.columns:\n",
    "        mean = df[feature_name].mean()\n",
    "        std = df[feature_name].std()\n",
    "        result[feature_name] = (df[feature_name] - mean) / std\n",
    "    return result\n",
    "\n",
    "def normalize2(df):\n",
    "    result = df.copy()\n",
    "    for feature_name in df.columns:\n",
    "        max_value = df[feature_name].max()\n",
    "        min_value = df[feature_name].min()\n",
    "        result[feature_name] = (df[feature_name] - min_value) / (max_value - min_value)\n",
    "    return result\n",
    "\n",
    "#definimos funciones de normalizacion\n",
    "X_norm1 = normalize1(X)\n",
    "X_norm2 = normalize2(X)\n",
    "X_matrix1 = np.asmatrix(X_norm1)\n",
    "X_matrix2 = np.asmatrix(X_norm2)\n",
    "filas = np.shape(X_matrix1)[0]\n",
    "columnas = np.shape(X_matrix1)[1]"
   ]
  },
  {
   "cell_type": "code",
   "execution_count": 130,
   "metadata": {},
   "outputs": [
    {
     "name": "stdout",
     "output_type": "stream",
     "text": [
      "[[0 0 0 ... 1 1 1]]\n"
     ]
    }
   ],
   "source": [
    "print(Y)"
   ]
  },
  {
   "cell_type": "code",
   "execution_count": 132,
   "metadata": {},
   "outputs": [
    {
     "ename": "ValueError",
     "evalue": "shapes (3276,9) and (10,) not aligned: 9 (dim 1) != 10 (dim 0)",
     "output_type": "error",
     "traceback": [
      "\u001b[1;31m---------------------------------------------------------------------------\u001b[0m",
      "\u001b[1;31mValueError\u001b[0m                                Traceback (most recent call last)",
      "\u001b[1;32m<ipython-input-132-acd87537254e>\u001b[0m in \u001b[0;36m<module>\u001b[1;34m\u001b[0m\n\u001b[0;32m     31\u001b[0m \u001b[1;33m\u001b[0m\u001b[0m\n\u001b[0;32m     32\u001b[0m     \u001b[1;32mfor\u001b[0m \u001b[0mi\u001b[0m \u001b[1;32min\u001b[0m \u001b[0mrange\u001b[0m\u001b[1;33m(\u001b[0m\u001b[1;36m500\u001b[0m\u001b[1;33m)\u001b[0m\u001b[1;33m:\u001b[0m\u001b[1;33m\u001b[0m\u001b[1;33m\u001b[0m\u001b[0m\n\u001b[1;32m---> 33\u001b[1;33m         \u001b[0mTheta\u001b[0m\u001b[1;33m,\u001b[0m \u001b[0mcost\u001b[0m \u001b[1;33m=\u001b[0m \u001b[0mgradiente\u001b[0m\u001b[1;33m(\u001b[0m\u001b[0mX_matrix1\u001b[0m\u001b[1;33m,\u001b[0m \u001b[0mY\u001b[0m\u001b[1;33m,\u001b[0m \u001b[0mtheta\u001b[0m\u001b[1;33m,\u001b[0m \u001b[0malpha\u001b[0m\u001b[1;33m)\u001b[0m\u001b[1;33m\u001b[0m\u001b[1;33m\u001b[0m\u001b[0m\n\u001b[0m\u001b[0;32m     34\u001b[0m         \u001b[0mcostes\u001b[0m\u001b[1;33m.\u001b[0m\u001b[0mappend\u001b[0m\u001b[1;33m(\u001b[0m\u001b[0mcost\u001b[0m\u001b[1;33m)\u001b[0m\u001b[1;33m\u001b[0m\u001b[1;33m\u001b[0m\u001b[0m\n\u001b[0;32m     35\u001b[0m \u001b[1;33m\u001b[0m\u001b[0m\n",
      "\u001b[1;32m<ipython-input-132-acd87537254e>\u001b[0m in \u001b[0;36mgradiente\u001b[1;34m(X, Y, theta, alpha)\u001b[0m\n\u001b[0;32m     11\u001b[0m     \u001b[0mth\u001b[0m \u001b[1;33m=\u001b[0m \u001b[0mtheta\u001b[0m\u001b[1;33m\u001b[0m\u001b[1;33m\u001b[0m\u001b[0m\n\u001b[0;32m     12\u001b[0m     \u001b[1;32mfor\u001b[0m \u001b[0mi\u001b[0m \u001b[1;32min\u001b[0m \u001b[0mrange\u001b[0m\u001b[1;33m(\u001b[0m\u001b[0mcolumnas\u001b[0m\u001b[1;33m)\u001b[0m\u001b[1;33m:\u001b[0m\u001b[1;33m\u001b[0m\u001b[1;33m\u001b[0m\u001b[0m\n\u001b[1;32m---> 13\u001b[1;33m         \u001b[0maux\u001b[0m \u001b[1;33m=\u001b[0m \u001b[1;33m(\u001b[0m\u001b[1;33m(\u001b[0m\u001b[0mnp\u001b[0m\u001b[1;33m.\u001b[0m\u001b[0mdot\u001b[0m\u001b[1;33m(\u001b[0m\u001b[0mX\u001b[0m\u001b[1;33m,\u001b[0m \u001b[0mtheta\u001b[0m\u001b[1;33m)\u001b[0m \u001b[1;33m-\u001b[0m \u001b[0mY\u001b[0m\u001b[1;33m)\u001b[0m \u001b[1;33m*\u001b[0m \u001b[0mX\u001b[0m\u001b[1;33m[\u001b[0m\u001b[1;33m:\u001b[0m\u001b[1;33m,\u001b[0m \u001b[0mi\u001b[0m\u001b[1;33m]\u001b[0m\u001b[1;33m)\u001b[0m\u001b[1;33m\u001b[0m\u001b[1;33m\u001b[0m\u001b[0m\n\u001b[0m\u001b[0;32m     14\u001b[0m         \u001b[0mth\u001b[0m\u001b[1;33m[\u001b[0m\u001b[0mi\u001b[0m\u001b[1;33m]\u001b[0m \u001b[1;33m-=\u001b[0m \u001b[1;33m(\u001b[0m\u001b[1;33m(\u001b[0m\u001b[0malpha\u001b[0m\u001b[1;33m/\u001b[0m\u001b[0mfilas\u001b[0m\u001b[1;33m)\u001b[0m \u001b[1;33m*\u001b[0m \u001b[0maux\u001b[0m\u001b[1;33m.\u001b[0m\u001b[0msum\u001b[0m\u001b[1;33m(\u001b[0m\u001b[1;33m)\u001b[0m\u001b[1;33m)\u001b[0m\u001b[1;33m\u001b[0m\u001b[1;33m\u001b[0m\u001b[0m\n\u001b[0;32m     15\u001b[0m     \u001b[1;32mreturn\u001b[0m \u001b[0mth\u001b[0m\u001b[1;33m,\u001b[0m \u001b[0mfun_coste\u001b[0m\u001b[1;33m(\u001b[0m\u001b[0mX\u001b[0m\u001b[1;33m,\u001b[0m \u001b[0mY\u001b[0m\u001b[1;33m,\u001b[0m \u001b[0mth\u001b[0m\u001b[1;33m)\u001b[0m\u001b[1;33m\u001b[0m\u001b[1;33m\u001b[0m\u001b[0m\n",
      "\u001b[1;32m<__array_function__ internals>\u001b[0m in \u001b[0;36mdot\u001b[1;34m(*args, **kwargs)\u001b[0m\n",
      "\u001b[1;31mValueError\u001b[0m: shapes (3276,9) and (10,) not aligned: 9 (dim 1) != 10 (dim 0)"
     ]
    },
    {
     "data": {
      "image/png": "[encoded data removed]",
      "text/plain": [
       "<Figure size 432x288 with 1 Axes>"
      ]
     },
     "metadata": {
      "needs_background": "light"
     },
     "output_type": "display_data"
    }
   ],
   "source": [
    "X_norm = np.hstack([np.ones([filas,1]),X_matrix1])\n",
    "\n",
    "#   Funcion de coste\n",
    "def fun_coste(X,Y,theta):\n",
    "    hip = np.dot(X, theta)\n",
    "    aux = (hip - Y) **2\n",
    "    return aux.sum() / (2 * filas)\n",
    "\n",
    "# Metodo de descenso de gradiente vectorizado\n",
    "def gradiente(X, Y, theta, alpha):\n",
    "    th = theta\n",
    "    for i in range(columnas):\n",
    "        aux = ((np.dot(X, theta) - Y) * X[:, i])\n",
    "        th[i] -= ((alpha/filas) * aux.sum())\n",
    "    return th, fun_coste(X, Y, th)\n",
    "\n",
    "# Ecuacion normal\n",
    "def ecuacion_normal(X, Y):\n",
    "    X= np.hstack([np.ones([filas,1]),X])\n",
    "    th = np.linalg.inv(np.transpose(X).dot(X)).dot(np.transpose(X)).dot(Y)\n",
    "    return th\n",
    "\n",
    "# Pruebas con alpha\n",
    "for alpha in [0.3, 0.1, 0.03, 0.01]:\n",
    "    theta = np.zeros(columnas + 1)\n",
    "    costes = []\n",
    "    plt.figure(1)\n",
    "    plt.title(alpha)\n",
    "    plt.xlabel('Iteracion')\n",
    "    plt.ylabel('Coste')\n",
    "    \n",
    "    for i in range(500):\n",
    "        Theta, cost = gradiente(X_matrix1, Y, theta, alpha)\n",
    "        costes.append(cost)\n",
    "    \n",
    "    plt.plot(costes)\n",
    "    plt.show()\n",
    "    print('Coste final:', cost)\n",
    "    print('Theta final:', theta)\n",
    "\n",
    "# Comprobacion de las funciones\n",
    "# Calculamos las thetas\n",
    "thg = np.zeros(columnas + 1)\n",
    "alpha = 0.1\n",
    "\n",
    "for i in range(3000):\n",
    "    thg, cost = gradiente(X_norm, Y_norm, thg, alpha)\n",
    "\n",
    "the = ecuacion_normal(X, Y)\n",
    "\n",
    "# Creamos datos de prueba y los normalizamos\n",
    "casa = np.array([1650,3]) \n",
    "casa_norm = (casa - mu[:-1])\n",
    "casa_norm = casa_norm / sigma[:-1]\n",
    "\n",
    "# Prediccion con descenso del gradiente\n",
    "gradient_predict = np.matmul(np.append(np.array([1]),casa_norm), thg) * sigma[-1]\n",
    "gradient_predict = gradient_predict + mu[-1]\n",
    "\n",
    "# Prediccion con ecuación normal\n",
    "normal_predict = np.matmul(np.append(np.array([1]),casa), the)\n",
    "\n",
    "print('Precio con', casa[0], 'pies cuadrados y', casa[1], 'habitaciones:')\n",
    "print('Resultado con descenso del gradiente:', gradient_predict)\n",
    "print('Resultado con ecuación normal:', normal_predict)"
   ]
  }
 ],
 "metadata": {
  "kernelspec": {
   "display_name": "Python 3",
   "language": "python",
   "name": "python3"
  },
  "language_info": {
   "codemirror_mode": {
    "name": "ipython",
    "version": 3
   },
   "file_extension": ".py",
   "mimetype": "text/x-python",
   "name": "python",
   "nbconvert_exporter": "python",
   "pygments_lexer": "ipython3",
   "version": "3.8.5"
  }
 },
 "nbformat": 4,
 "nbformat_minor": 4
}
