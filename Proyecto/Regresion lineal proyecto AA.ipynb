{
 "cells": [
  {
   "cell_type": "markdown",
   "metadata": {},
   "source": [
    "# Proyecto Final de Aprendizaje Automático: Clasificador de Agua Potable"
   ]
  },
  {
   "cell_type": "markdown",
   "metadata": {},
   "source": [
    "Por Miguel Ferreras Chumillas y Antonio Rodríguez Hurtado"
   ]
  },
  {
   "cell_type": "markdown",
   "metadata": {},
   "source": [
    "## Introducción"
   ]
  },
  {
   "cell_type": "markdown",
   "metadata": {},
   "source": [
    "Nuestro proyecto final para la asignatura Aprendizaje Automático y Big Data consiste en un clasificador que, dados unos datos sobre el agua que deseemos analizar, evalúa y decide si es potable o no. Para ello, hemos utilizado varios de los modelos aprendidos en la asignatura, comparándolos con el fin de obtener el modelo que mayor eficacia muestre.\n",
    "\n",
    "Para el entrenamiento de los modelos, hemos utilizado un dataset proveniente de la plataforma web Kaggle con la composición de distintas muestras de agua, y si éstas son provenientes de agua potable o no. A continuación, veremos el dataset con más detalle."
   ]
  },
  {
   "cell_type": "markdown",
   "metadata": {},
   "source": [
    "## Obtención de Datos y Tratamiento"
   ]
  },
  {
   "cell_type": "markdown",
   "metadata": {},
   "source": [
    "### Análisis de los Datos"
   ]
  },
  {
   "cell_type": "markdown",
   "metadata": {},
   "source": [
    "Los datos sobre la potabilidad del agua están guardados en un archivo con formato csv, por lo que hemos utilizado la librería Pandas de Python para facilitar su extracción y posterior tratamiento y uso. Como se puede ver a continuación, los datos están clasificados según nueve características o atributos distintos, más un atributo adicional que nos indica si el agua es potable o no."
   ]
  },
  {
   "cell_type": "code",
   "execution_count": 5,
   "metadata": {},
   "outputs": [
    {
     "data": {
      "text/html": [
       "<div>\n",
       "<style scoped>\n",
       "    .dataframe tbody tr th:only-of-type {\n",
       "        vertical-align: middle;\n",
       "    }\n",
       "\n",
       "    .dataframe tbody tr th {\n",
       "        vertical-align: top;\n",
       "    }\n",
       "\n",
       "    .dataframe thead th {\n",
       "        text-align: right;\n",
       "    }\n",
       "</style>\n",
       "<table border=\"1\" class=\"dataframe\">\n",
       "  <thead>\n",
       "    <tr style=\"text-align: right;\">\n",
       "      <th></th>\n",
       "      <th>ph</th>\n",
       "      <th>Hardness</th>\n",
       "      <th>Solids</th>\n",
       "      <th>Chloramines</th>\n",
       "      <th>Sulfate</th>\n",
       "      <th>Conductivity</th>\n",
       "      <th>Organic_carbon</th>\n",
       "      <th>Trihalomethanes</th>\n",
       "      <th>Turbidity</th>\n",
       "      <th>Potability</th>\n",
       "    </tr>\n",
       "  </thead>\n",
       "  <tbody>\n",
       "    <tr>\n",
       "      <th>0</th>\n",
       "      <td>NaN</td>\n",
       "      <td>204.890455</td>\n",
       "      <td>20791.318981</td>\n",
       "      <td>7.300212</td>\n",
       "      <td>368.516441</td>\n",
       "      <td>564.308654</td>\n",
       "      <td>10.379783</td>\n",
       "      <td>86.990970</td>\n",
       "      <td>2.963135</td>\n",
       "      <td>0</td>\n",
       "    </tr>\n",
       "    <tr>\n",
       "      <th>1</th>\n",
       "      <td>3.716080</td>\n",
       "      <td>129.422921</td>\n",
       "      <td>18630.057858</td>\n",
       "      <td>6.635246</td>\n",
       "      <td>NaN</td>\n",
       "      <td>592.885359</td>\n",
       "      <td>15.180013</td>\n",
       "      <td>56.329076</td>\n",
       "      <td>4.500656</td>\n",
       "      <td>0</td>\n",
       "    </tr>\n",
       "    <tr>\n",
       "      <th>2</th>\n",
       "      <td>8.099124</td>\n",
       "      <td>224.236259</td>\n",
       "      <td>19909.541732</td>\n",
       "      <td>9.275884</td>\n",
       "      <td>NaN</td>\n",
       "      <td>418.606213</td>\n",
       "      <td>16.868637</td>\n",
       "      <td>66.420093</td>\n",
       "      <td>3.055934</td>\n",
       "      <td>0</td>\n",
       "    </tr>\n",
       "    <tr>\n",
       "      <th>3</th>\n",
       "      <td>8.316766</td>\n",
       "      <td>214.373394</td>\n",
       "      <td>22018.417441</td>\n",
       "      <td>8.059332</td>\n",
       "      <td>356.886136</td>\n",
       "      <td>363.266516</td>\n",
       "      <td>18.436524</td>\n",
       "      <td>100.341674</td>\n",
       "      <td>4.628771</td>\n",
       "      <td>0</td>\n",
       "    </tr>\n",
       "    <tr>\n",
       "      <th>4</th>\n",
       "      <td>9.092223</td>\n",
       "      <td>181.101509</td>\n",
       "      <td>17978.986339</td>\n",
       "      <td>6.546600</td>\n",
       "      <td>310.135738</td>\n",
       "      <td>398.410813</td>\n",
       "      <td>11.558279</td>\n",
       "      <td>31.997993</td>\n",
       "      <td>4.075075</td>\n",
       "      <td>0</td>\n",
       "    </tr>\n",
       "  </tbody>\n",
       "</table>\n",
       "</div>"
      ],
      "text/plain": [
       "         ph    Hardness        Solids  Chloramines     Sulfate  Conductivity  \\\n",
       "0       NaN  204.890455  20791.318981     7.300212  368.516441    564.308654   \n",
       "1  3.716080  129.422921  18630.057858     6.635246         NaN    592.885359   \n",
       "2  8.099124  224.236259  19909.541732     9.275884         NaN    418.606213   \n",
       "3  8.316766  214.373394  22018.417441     8.059332  356.886136    363.266516   \n",
       "4  9.092223  181.101509  17978.986339     6.546600  310.135738    398.410813   \n",
       "\n",
       "   Organic_carbon  Trihalomethanes  Turbidity  Potability  \n",
       "0       10.379783        86.990970   2.963135           0  \n",
       "1       15.180013        56.329076   4.500656           0  \n",
       "2       16.868637        66.420093   3.055934           0  \n",
       "3       18.436524       100.341674   4.628771           0  \n",
       "4       11.558279        31.997993   4.075075           0  "
      ]
     },
     "execution_count": 5,
     "metadata": {},
     "output_type": "execute_result"
    }
   ],
   "source": [
    "datos = pd.read_csv(\"water_potability.csv\")\n",
    "datos.head()"
   ]
  },
  {
   "cell_type": "code",
   "execution_count": 6,
   "metadata": {},
   "outputs": [
    {
     "data": {
      "text/html": [
       "<div>\n",
       "<style scoped>\n",
       "    .dataframe tbody tr th:only-of-type {\n",
       "        vertical-align: middle;\n",
       "    }\n",
       "\n",
       "    .dataframe tbody tr th {\n",
       "        vertical-align: top;\n",
       "    }\n",
       "\n",
       "    .dataframe thead th {\n",
       "        text-align: right;\n",
       "    }\n",
       "</style>\n",
       "<table border=\"1\" class=\"dataframe\">\n",
       "  <thead>\n",
       "    <tr style=\"text-align: right;\">\n",
       "      <th></th>\n",
       "      <th>ph</th>\n",
       "      <th>Hardness</th>\n",
       "      <th>Solids</th>\n",
       "      <th>Chloramines</th>\n",
       "      <th>Sulfate</th>\n",
       "      <th>Conductivity</th>\n",
       "      <th>Organic_carbon</th>\n",
       "      <th>Trihalomethanes</th>\n",
       "      <th>Turbidity</th>\n",
       "      <th>Potability</th>\n",
       "    </tr>\n",
       "  </thead>\n",
       "  <tbody>\n",
       "    <tr>\n",
       "      <th>3271</th>\n",
       "      <td>4.668102</td>\n",
       "      <td>193.681735</td>\n",
       "      <td>47580.991603</td>\n",
       "      <td>7.166639</td>\n",
       "      <td>359.948574</td>\n",
       "      <td>526.424171</td>\n",
       "      <td>13.894419</td>\n",
       "      <td>66.687695</td>\n",
       "      <td>4.435821</td>\n",
       "      <td>1</td>\n",
       "    </tr>\n",
       "    <tr>\n",
       "      <th>3272</th>\n",
       "      <td>7.808856</td>\n",
       "      <td>193.553212</td>\n",
       "      <td>17329.802160</td>\n",
       "      <td>8.061362</td>\n",
       "      <td>NaN</td>\n",
       "      <td>392.449580</td>\n",
       "      <td>19.903225</td>\n",
       "      <td>NaN</td>\n",
       "      <td>2.798243</td>\n",
       "      <td>1</td>\n",
       "    </tr>\n",
       "    <tr>\n",
       "      <th>3273</th>\n",
       "      <td>9.419510</td>\n",
       "      <td>175.762646</td>\n",
       "      <td>33155.578218</td>\n",
       "      <td>7.350233</td>\n",
       "      <td>NaN</td>\n",
       "      <td>432.044783</td>\n",
       "      <td>11.039070</td>\n",
       "      <td>69.845400</td>\n",
       "      <td>3.298875</td>\n",
       "      <td>1</td>\n",
       "    </tr>\n",
       "    <tr>\n",
       "      <th>3274</th>\n",
       "      <td>5.126763</td>\n",
       "      <td>230.603758</td>\n",
       "      <td>11983.869376</td>\n",
       "      <td>6.303357</td>\n",
       "      <td>NaN</td>\n",
       "      <td>402.883113</td>\n",
       "      <td>11.168946</td>\n",
       "      <td>77.488213</td>\n",
       "      <td>4.708658</td>\n",
       "      <td>1</td>\n",
       "    </tr>\n",
       "    <tr>\n",
       "      <th>3275</th>\n",
       "      <td>7.874671</td>\n",
       "      <td>195.102299</td>\n",
       "      <td>17404.177061</td>\n",
       "      <td>7.509306</td>\n",
       "      <td>NaN</td>\n",
       "      <td>327.459760</td>\n",
       "      <td>16.140368</td>\n",
       "      <td>78.698446</td>\n",
       "      <td>2.309149</td>\n",
       "      <td>1</td>\n",
       "    </tr>\n",
       "  </tbody>\n",
       "</table>\n",
       "</div>"
      ],
      "text/plain": [
       "            ph    Hardness        Solids  Chloramines     Sulfate  \\\n",
       "3271  4.668102  193.681735  47580.991603     7.166639  359.948574   \n",
       "3272  7.808856  193.553212  17329.802160     8.061362         NaN   \n",
       "3273  9.419510  175.762646  33155.578218     7.350233         NaN   \n",
       "3274  5.126763  230.603758  11983.869376     6.303357         NaN   \n",
       "3275  7.874671  195.102299  17404.177061     7.509306         NaN   \n",
       "\n",
       "      Conductivity  Organic_carbon  Trihalomethanes  Turbidity  Potability  \n",
       "3271    526.424171       13.894419        66.687695   4.435821           1  \n",
       "3272    392.449580       19.903225              NaN   2.798243           1  \n",
       "3273    432.044783       11.039070        69.845400   3.298875           1  \n",
       "3274    402.883113       11.168946        77.488213   4.708658           1  \n",
       "3275    327.459760       16.140368        78.698446   2.309149           1  "
      ]
     },
     "execution_count": 6,
     "metadata": {},
     "output_type": "execute_result"
    }
   ],
   "source": [
    "datos.tail()"
   ]
  },
  {
   "cell_type": "markdown",
   "metadata": {},
   "source": [
    "Sin embargo, no todos los datos están completos; en algunos de ellos falta información sobre uno o varios de los atributos:"
   ]
  },
  {
   "cell_type": "code",
   "execution_count": 7,
   "metadata": {},
   "outputs": [
    {
     "data": {
      "text/plain": [
       "ph                 491\n",
       "Hardness             0\n",
       "Solids               0\n",
       "Chloramines          0\n",
       "Sulfate            781\n",
       "Conductivity         0\n",
       "Organic_carbon       0\n",
       "Trihalomethanes    162\n",
       "Turbidity            0\n",
       "Potability           0\n",
       "dtype: int64"
      ]
     },
     "execution_count": 7,
     "metadata": {},
     "output_type": "execute_result"
    }
   ],
   "source": [
    "datos.isnull().sum()"
   ]
  },
  {
   "cell_type": "markdown",
   "metadata": {},
   "source": [
    "Por tanto, es algo que deberemos tratar más adelante si queremos que nuestros modelos se entrenen con la mayor efectividad posible.\n",
    "\n",
    "Pero ese no es el único problema de nuestro dataset actual. Si observamos la proporción entre los casos en los que el agua es potable y en los que no, observamos que están descompensados, habiendo mayor casos de agua no potable que de agua potable. Esta desproporción puede hacer que nuestros modelos posean cierto sesgo, por lo que es necesario corregirla más adelante."
   ]
  },
  {
   "cell_type": "code",
   "execution_count": 8,
   "metadata": {},
   "outputs": [
    {
     "data": {
      "text/plain": [
       "0    1998\n",
       "1    1278\n",
       "Name: Potability, dtype: int64"
      ]
     },
     "execution_count": 8,
     "metadata": {},
     "output_type": "execute_result"
    }
   ],
   "source": [
    "datos.Potability.value_counts()"
   ]
  },
  {
   "cell_type": "code",
   "execution_count": 9,
   "metadata": {},
   "outputs": [
    {
     "data": {
      "text/plain": [
       "<AxesSubplot:ylabel='Potability'>"
      ]
     },
     "execution_count": 9,
     "metadata": {},
     "output_type": "execute_result"
    },
    {
     "data": {
      "image/png": "[encoded data removed]",
      "text/plain": [
       "<Figure size 432x288 with 1 Axes>"
      ]
     },
     "metadata": {},
     "output_type": "display_data"
    }
   ],
   "source": [
    "datos.Potability.value_counts().plot(kind='pie')"
   ]
  },
  {
   "cell_type": "markdown",
   "metadata": {},
   "source": [
    "### Tratamiento de Datos"
   ]
  },
  {
   "cell_type": "markdown",
   "metadata": {},
   "source": [
    "Lo primero que haremos será corregir los problemas que hemos descubierto. En primer lugar, trataremos los valores nulos dentro de nuestro dataset.\n",
    "\n",
    "Debido a que la potabilidad del agua es un dato determinante, hemos preferido no tratar los datos con valores nulos de la forma habitual, es decir, asignándole la media global a cada uno de los atributos que faltan. En su lugar, hemos optado por descartar aquellos datos con atributos vacíos, haciendo que el conjunto de datos se reduzca pero asegurándonos de que todos los datos sean válidos."
   ]
  },
  {
   "cell_type": "code",
   "execution_count": 10,
   "metadata": {},
   "outputs": [
    {
     "data": {
      "text/plain": [
       "ph                 0\n",
       "Hardness           0\n",
       "Solids             0\n",
       "Chloramines        0\n",
       "Sulfate            0\n",
       "Conductivity       0\n",
       "Organic_carbon     0\n",
       "Trihalomethanes    0\n",
       "Turbidity          0\n",
       "Potability         0\n",
       "dtype: int64"
      ]
     },
     "execution_count": 10,
     "metadata": {},
     "output_type": "execute_result"
    }
   ],
   "source": [
    "datos = datos.dropna()\n",
    "datos.isnull().sum()"
   ]
  },
  {
   "cell_type": "code",
   "execution_count": 11,
   "metadata": {},
   "outputs": [
    {
     "data": {
      "text/plain": [
       "0    1200\n",
       "1     811\n",
       "Name: Potability, dtype: int64"
      ]
     },
     "execution_count": 11,
     "metadata": {},
     "output_type": "execute_result"
    }
   ],
   "source": [
    "datos.Potability.value_counts()"
   ]
  },
  {
   "cell_type": "code",
   "execution_count": 12,
   "metadata": {},
   "outputs": [
    {
     "data": {
      "text/plain": [
       "<AxesSubplot:ylabel='Potability'>"
      ]
     },
     "execution_count": 12,
     "metadata": {},
     "output_type": "execute_result"
    },
    {
     "data": {
      "image/png": "[encoded data removed]",
      "text/plain": [
       "<Figure size 432x288 with 1 Axes>"
      ]
     },
     "metadata": {},
     "output_type": "display_data"
    }
   ],
   "source": [
    "datos.Potability.value_counts().plot(kind='pie')"
   ]
  },
  {
   "cell_type": "markdown",
   "metadata": {},
   "source": [
    "Como podemos observar, pese a que hemos eliminado parte de los datos la desproporción se mantiene, por lo que es necesario tratarla para alcanzar un equilibrio entre los datos con agua potable y con agua no potable.\n",
    "\n",
    "Para ello, crearemos nuevos datos a partir de los ya existentes hasta alcanzar dicho equilibrio, de la siguiente forma:"
   ]
  },
  {
   "cell_type": "code",
   "execution_count": 13,
   "metadata": {},
   "outputs": [
    {
     "data": {
      "text/plain": [
       "<AxesSubplot:ylabel='Potability'>"
      ]
     },
     "execution_count": 13,
     "metadata": {},
     "output_type": "execute_result"
    },
    {
     "data": {
      "image/png": "[encoded data removed]",
      "text/plain": [
       "<Figure size 432x288 with 1 Axes>"
      ]
     },
     "metadata": {},
     "output_type": "display_data"
    }
   ],
   "source": [
    "zero  = datos[datos['Potability']==0]  \n",
    "one = datos[datos['Potability']==1] \n",
    "\n",
    "df_minority_upsampled = resample(one, replace = True, n_samples = 1200) \n",
    "\n",
    "datos = pd.concat([zero, df_minority_upsampled])\n",
    "datos = shuffle(datos) \n",
    "\n",
    "datos.Potability.value_counts().plot(kind='pie')"
   ]
  },
  {
   "cell_type": "markdown",
   "metadata": {},
   "source": [
    "Nuestros datos ya están listos para utilizarse, por lo que ya tan solo queda dividirlos en los diferentes conjuntos de datos que vayamos a usar en nuestros modelos."
   ]
  },
  {
   "cell_type": "code",
   "execution_count": 14,
   "metadata": {},
   "outputs": [],
   "source": [
    "X = datos.drop(['Potability'], axis = 1)\n",
    "y = datos['Potability']\n",
    "\n",
    "from sklearn.preprocessing import StandardScaler\n",
    "sc = StandardScaler()\n",
    "features= X.columns\n",
    "X[features] = sc.fit_transform(X[features])\n",
    "\n",
    "x_train, x_test, y_train, y_test = train_test_split(X,y, test_size = 0.2, random_state=1)"
   ]
  },
  {
   "cell_type": "markdown",
   "metadata": {},
   "source": [
    "## Modelos del Clasificador"
   ]
  },
  {
   "cell_type": "markdown",
   "metadata": {},
   "source": [
    "Aunque en la asignatura hemos aprendido más modelos, a la hora de crear el clasificador hemos decidido optar por: Regresión Logística, Support Vector Machines (SVM) y Red Neuronal. Usando estos tres modelos, podremos ver cuál de ellos se adecúa mejor a la naturaleza del clasificador y escogerlo en consecuencia.\n",
    "\n",
    "Las métricas que usaremos para comparar los modelos son la AUC (nuestra medida principal) y la F1 Score (la utilizaremos para obtener información adicional). Con ellas, obtendremos suficiente información sobre el rendimiento general de cada modelo."
   ]
  },
  {
   "cell_type": "markdown",
   "metadata": {},
   "source": [
    "### Regresión Logística"
   ]
  },
  {
   "cell_type": "markdown",
   "metadata": {},
   "source": [
    "La función que usaremos en este modelo es la misma que hemos desarrollado en clase. El código se encuentra disponible al final de la memoria, en el apéndice, y con él se obtienen los siguiente resultados:"
   ]
  },
  {
   "cell_type": "code",
   "execution_count": 25,
   "metadata": {},
   "outputs": [
    {
     "name": "stdout",
     "output_type": "stream",
     "text": [
      "No Skill : ROC AUC=0.500\n",
      "Regresion logistica : ROC AUC=0.538\n"
     ]
    },
    {
     "data": {
      "image/png": "[encoded data removed]",
      "text/plain": [
       "<Figure size 432x288 with 1 Axes>"
      ]
     },
     "metadata": {
      "needs_background": "light"
     },
     "output_type": "display_data"
    },
    {
     "name": "stdout",
     "output_type": "stream",
     "text": [
      "              precision    recall  f1-score   support\n",
      "\n",
      "           0       0.55      0.40      0.46       254\n",
      "           1       0.48      0.64      0.55       226\n",
      "\n",
      "    accuracy                           0.51       480\n",
      "   macro avg       0.52      0.52      0.51       480\n",
      "weighted avg       0.52      0.51      0.50       480\n",
      "\n"
     ]
    }
   ],
   "source": [
    "regresion_logistica(x_train, y_train, x_test, y_test)"
   ]
  },
  {
   "cell_type": "markdown",
   "metadata": {},
   "source": [
    "Como se puede observar, los resultados que ofrece la regresión logísticas no son demasiado buenos, por lo que, probablemente, otros modelos se adapten mejor al clasificador."
   ]
  },
  {
   "cell_type": "markdown",
   "metadata": {},
   "source": [
    "### Support Vector Machines (SVM)"
   ]
  },
  {
   "cell_type": "markdown",
   "metadata": {},
   "source": [
    "Al igual que en Regresión Logística, el código de este modelo se encuentra en el Apéndice, y está sacado de los ejercicios de clase. Los resultados obtenidos son:"
   ]
  },
  {
   "cell_type": "code",
   "execution_count": 29,
   "metadata": {},
   "outputs": [
    {
     "name": "stdout",
     "output_type": "stream",
     "text": [
      "0.78125 100.0 %\n",
      "No Skill : ROC AUC=0.500\n",
      "Kernel rbf : ROC AUC=0.852\n"
     ]
    },
    {
     "data": {
      "image/png": "[encoded data removed]",
      "text/plain": [
       "<Figure size 432x288 with 1 Axes>"
      ]
     },
     "metadata": {
      "needs_background": "light"
     },
     "output_type": "display_data"
    },
    {
     "name": "stdout",
     "output_type": "stream",
     "text": [
      "              precision    recall  f1-score   support\n",
      "\n",
      "           0       0.79      1.00      0.88       254\n",
      "           1       1.00      0.70      0.83       226\n",
      "\n",
      "    accuracy                           0.86       480\n",
      "   macro avg       0.90      0.85      0.85       480\n",
      "weighted avg       0.89      0.86      0.86       480\n",
      "\n"
     ]
    },
    {
     "data": {
      "image/png": "[encoded data removed]",
      "text/plain": [
       "<Figure size 432x288 with 2 Axes>"
      ]
     },
     "metadata": {
      "needs_background": "light"
     },
     "output_type": "display_data"
    }
   ],
   "source": [
    "svm(x_train, y_train, x_test, y_test)"
   ]
  },
  {
   "cell_type": "markdown",
   "metadata": {},
   "source": [
    "Esta vez los resultados son mucho mejores, dando lugar a un modelo que ya podría considerarse válido, teniendo en cuenta que posee una eficacia del 85.2% Además, gracias a la matriz de confusión, podemos ver cómo este modelo predice el 100% del agua no potable, a pesar de no ser tan preciso a la hora de predecir el agua potable. Debido a esto, este modelo puede ser especialmente útil si nuestra intención es priorizar la detección de agua no potable."
   ]
  },
  {
   "cell_type": "markdown",
   "metadata": {},
   "source": [
    "### Red Neuronal"
   ]
  },
  {
   "cell_type": "markdown",
   "metadata": {},
   "source": [
    "Por último, veremos los resultados que aporta el modelo de Red Neuronal utilizado en las prácticas de la asignatura. Al igual que los otros, el código de este modelo se encuentra disponible en el apéndice final."
   ]
  },
  {
   "cell_type": "code",
   "execution_count": null,
   "metadata": {
    "scrolled": false
   },
   "outputs": [
    {
     "name": "stdout",
     "output_type": "stream",
     "text": [
      "0.7229166666666667 1.28 %\n"
     ]
    }
   ],
   "source": [
    "red_neuronal(x_train, y_train, x_test, y_test)"
   ]
  },
  {
   "cell_type": "markdown",
   "metadata": {},
   "source": [
    "Aunque no se alcanzan los resultados del modelo SVM, los obtenidos con la Red Neuronal aún así son muy buenos. En comparación, son más equilibrados que el modelo SVM, ya que el número de resultados predichos con éxito para agua potable y no potable son prácticamente iguales."
   ]
  },
  {
   "cell_type": "markdown",
   "metadata": {},
   "source": [
    "## Conclusión"
   ]
  },
  {
   "cell_type": "markdown",
   "metadata": {},
   "source": [
    "Debido a los malos resultados del modelo de Regresión Lineal, la decisión está entre el modelo que usa SVM y la Red Neuronal. Aunque la Red Neuronal aporte unos resultados más equilibrados que la SVM, ésta es capaz de predecir al 100% las aguas no potables. Por tanto, teniendo en cuenta que en determinados casos este factor puede resultar crítico, creemos que el modelo que hace uso de las SVM se adecúa mejor al uso que queremos darle al clasificador."
   ]
  },
  {
   "cell_type": "markdown",
   "metadata": {},
   "source": [
    "# Apéndice: Código"
   ]
  },
  {
   "cell_type": "markdown",
   "metadata": {},
   "source": [
    "## Librerías Utilizadas"
   ]
  },
  {
   "cell_type": "code",
   "execution_count": 4,
   "metadata": {},
   "outputs": [],
   "source": [
    "import numpy as np\n",
    "import pandas as pd\n",
    "import matplotlib.pyplot as plt\n",
    "import scipy.optimize as opt\n",
    "from sklearn.model_selection import train_test_split\n",
    "from sklearn.svm import SVC\n",
    "from sklearn.metrics import accuracy_score\n",
    "from IPython.display import clear_output\n",
    "from sklearn.metrics import roc_curve\n",
    "from sklearn.metrics import roc_auc_score\n",
    "from matplotlib import pyplot\n",
    "from sklearn.utils import resample\n",
    "from sklearn.utils import shuffle\n",
    "from sklearn.metrics import classification_report\n",
    "from sklearn.metrics import confusion_matrix, ConfusionMatrixDisplay"
   ]
  },
  {
   "cell_type": "markdown",
   "metadata": {},
   "source": [
    "## Funciones para Regresión Logística"
   ]
  },
  {
   "cell_type": "code",
   "execution_count": 24,
   "metadata": {},
   "outputs": [],
   "source": [
    "def sigmoid(z):\n",
    "    return 1 / (1 + np.exp(-z))\n",
    "\n",
    "def hip(X, theta):\n",
    "    return sigmoid(np.dot(X, theta))\n",
    "\n",
    "def cost(theta, X, Y, m, lamda):\n",
    "    return (-1 / m) * (np.dot(Y, np.log(hip(X, theta))) + np.dot((1 - Y), np.log(1 - hip(X, theta)))) + (lamda / (2 * m)) * np.sum(np.power(theta, 2))               \n",
    "\n",
    "def gradient(theta, X, Y, m, lamda):\n",
    "    gradiente =  ((1 / m) * np.matmul((hip(X, theta) - Y), X))\n",
    "    result = gradiente[0]\n",
    "    i = 1\n",
    "    for e in gradiente[1:]:\n",
    "        result = np.append(result, e + ((lamda / m) * theta[i]))\n",
    "        i += 1\n",
    "    return result\n",
    "\n",
    "def regresion_logistica(x_train, y_train, x_test, y_test):\n",
    "    ox_train = np.hstack([np.ones([np.shape(x_train)[0], 1]), x_train])\n",
    "    ox_test = np.hstack([np.ones([np.shape(x_test)[0], 1]), x_test])\n",
    "    lamda = 0.1\n",
    "    theta = [0] * np.shape(ox_train)[1]\n",
    "    result = opt.fmin_tnc(func=cost, x0=theta, fprime=gradient, args=(ox_train, y_train, np.shape(x_train)[0], lamda))\n",
    "    theta_opt = result[0]\n",
    "    au_under_dwayn(y_test, hip(ox_test,theta_opt), 'Regresion logistica')\n",
    "    print(classification_report(y_test,hip(ox_test,theta_opt).round()))"
   ]
  },
  {
   "cell_type": "markdown",
   "metadata": {},
   "source": [
    "## Funciones para SVM"
   ]
  },
  {
   "cell_type": "code",
   "execution_count": 27,
   "metadata": {},
   "outputs": [],
   "source": [
    "def kernel_rbf(x_train, y_train, x_test, y_test):\n",
    "    x_train, x_val, y_train, y_val = train_test_split(x_train, y_train, test_size=0.25, random_state=1) # 0.25 x 0.8 = 0.2\n",
    "    \n",
    "    values = np.linspace(0.1,100, 10, dtype=float)\n",
    "    best_C = 0\n",
    "    best_sigma = 0\n",
    "    best_acc = 0\n",
    "    i = 0\n",
    "    for C in values:\n",
    "        for sigma in values:\n",
    "            i = i+1\n",
    "            svm = SVC(kernel='rbf', C=C, gamma=1 / (2 * sigma**2))\n",
    "            svm.fit(x_train, y_train)\n",
    "            acc = accuracy_score(y_val, svm.predict(x_val))\n",
    "            clear_output(wait=True)\n",
    "            if acc > best_acc:\n",
    "                best_C = C\n",
    "                best_sigma = sigma\n",
    "                best_acc = acc\n",
    "            print(best_acc, i * 100/len(values)**2, '%')\n",
    "    return best_C, best_sigma\n",
    "\n",
    "def svm(x_train, y_train, x_test, y_test):\n",
    "    best_C, best_sigma = kernel_rbf(x_train, y_train, x_test, y_test)\n",
    "    svm = SVC(kernel='rbf', C=best_C, gamma=1 / (2 * best_sigma**2), probability=True)\n",
    "    svm.fit(x_train, y_train)\n",
    "    y_score = svm.decision_function(x_test)\n",
    "\n",
    "    au_under_dwayn(y_test, svm.predict(x_test), 'Kernel rbf')\n",
    "    print(classification_report(y_test,np.where(y_score > 0, 1, 0)))\n",
    "    cm = confusion_matrix(y_test, np.where(y_score > 0, 1, 0))\n",
    "    disp = ConfusionMatrixDisplay(confusion_matrix=cm, display_labels=svm.classes_)\n",
    "    disp.plot()"
   ]
  },
  {
   "cell_type": "markdown",
   "metadata": {},
   "source": [
    "## Funciones para la Red Neuronal"
   ]
  },
  {
   "cell_type": "code",
   "execution_count": 52,
   "metadata": {},
   "outputs": [],
   "source": [
    "def sigmoid(z):\n",
    "    return 1 / (1 + np.exp(-z))\n",
    "\n",
    "def hip(a, b):\n",
    "    return sigmoid(np.matmul(a, b))\n",
    "\n",
    "def forward_propagate(X, Theta1, Theta2):\n",
    "    m = X.shape[0]\n",
    "    A1 = np.hstack([np.ones([m, 1]), X])\n",
    "    Z2 = np.dot(A1, Theta1.T)\n",
    "    A2 = np.hstack([np.ones([m, 1]), sigmoid(Z2)])\n",
    "    Z3 = np.dot(A2, Theta2.T)\n",
    "    H = sigmoid(Z3)\n",
    "    return A1, Z2, A2, Z3, H\n",
    "\n",
    "def cost(H, Y, Theta1, Theta2, reg):\n",
    "    m = len(Y)\n",
    "    th1 = np.delete(Theta1, 0, axis=1)\n",
    "    th2 = np.delete(Theta2, 0, axis=1)\n",
    "    suma = 0\n",
    "    for i in range(m):\n",
    "        suma += np.sum((np.matmul(-Y[i,:], np.log(H[i,:])) - np.matmul((1 - Y[i,:]), np.log(1 - H[i,:]))))\n",
    "    return ((1 / m) * suma) + ((reg / (2 * m)) * (np.sum(np.power(th1, 2)) + np.sum(np.power(th2, 2))))\n",
    "\n",
    "def cash_converter(H):\n",
    "    x = []\n",
    "    for e in H:\n",
    "        if e[0] > e[1]:\n",
    "            x.append(0)\n",
    "        else:\n",
    "            x.append(1)\n",
    "    return x\n",
    "\n",
    "def backprop(params_rn, num_entradas, num_ocultas, num_etiquetas, X, y, reg):\n",
    "    m = X.shape[0]\n",
    "    Theta1 = np.reshape(params_rn[:num_ocultas * (num_entradas + 1)], (num_ocultas, (num_entradas + 1)))\n",
    "    Theta2 = np.reshape(params_rn[num_ocultas * (num_entradas + 1):], (num_etiquetas, (num_ocultas + 1)))\n",
    "    A1, Z2, A2, Z3, H = forward_propagate(X, Theta1, Theta2)\n",
    "\n",
    "    coste = cost(H, y, Theta1, Theta2, reg)\n",
    "\n",
    "    Delta1, Delta2 = np.zeros(Theta1.shape), np.zeros(Theta2.shape)\n",
    "    sigma3 = (H - y)\n",
    "    Delta2 += np.dot(sigma3.T, A2)\n",
    "    Delta1 += np.dot(np.delete(np.dot(sigma3, Theta2) * (A2 * (1 - A2)), 0, axis=1).T, A1)\n",
    "    D1 = Delta1 / m\n",
    "    D2 = Delta2 / m\n",
    "    D1[:, 1:] = D1[:, 1:] + (reg * Theta1[:, 1:]) / m\n",
    "    D2[:, 1:] = D2[:, 1:] + (reg * Theta2[:, 1:]) / m\n",
    "   \n",
    "    return coste, np.concatenate((D1, D2), axis=None)\n",
    "\n",
    "def pesosAleatorios(L_in, L_out):\n",
    "    ini_epsilon = 0.12\n",
    "    theta = np.random.rand(L_out, 1 + L_in) * (2*ini_epsilon) - ini_epsilon \n",
    "    return theta \n",
    "\n",
    "def train(X, y, reg, iters):\n",
    "    num_entradas = X.shape[1]\n",
    "    num_ocultas = 128\n",
    "    num_etiquetas = 2\n",
    "\n",
    "    theta1 = pesosAleatorios(num_entradas, num_ocultas)\n",
    "    theta2 = pesosAleatorios(num_ocultas, num_etiquetas)\n",
    "    params = np.concatenate((np.ravel(theta1), np.ravel(theta2)))\n",
    "\n",
    "    fmin = opt.minimize(fun=backprop, x0=params, \n",
    "                 args=(num_entradas, num_ocultas, num_etiquetas, X, y, reg),\n",
    "                 method='TNC', jac=True, options={'maxiter' : iters})\n",
    "\n",
    "    theta1 = np.reshape(fmin.x[:num_ocultas * (num_entradas + 1)],\n",
    "                       (num_ocultas, (num_entradas + 1)))\n",
    "    theta2 = np.reshape(fmin.x[num_ocultas * (num_entradas + 1):],\n",
    "                       (num_etiquetas, (num_ocultas + 1)))\n",
    "    \n",
    "    return theta1, theta2\n",
    "\n",
    "def predictions(X, theta1, theta2):\n",
    "    a1, z2, a2, z2, h = forward_propagate(X, theta1, theta2)\n",
    "    predictions = np.argmax(h, axis=1)\n",
    "    return predictions\n",
    "\n",
    "def red_neuronal(x_train, y_train, x_test, y_test):\n",
    "    x_train, x_val, y_train, y_val = train_test_split(x_train, y_train, test_size=0.25, random_state=1) # 0.25 x 0.8 = 0.2\n",
    "    y_onehot = np.zeros((np.shape(x_train)[0], 2))\n",
    "    for i in range(np.shape(x_train)[0]):\n",
    "        y_onehot[i][y_train.iloc[i]] = 1.0\n",
    "    \n",
    "    best_acc = 0\n",
    "    best_reg = 0\n",
    "    best_iters = 0\n",
    "    i = 0\n",
    "    reg_values = np.linspace(0.1,100, 25, dtype=float)\n",
    "    iters_values = np.linspace(1,500, 25, dtype=int)\n",
    "    for reg in reg_values:\n",
    "        for iters in iters_values:\n",
    "            i = i + 1\n",
    "            theta1, theta2 = train(x_train, y_onehot, reg=reg, iters=iters)\n",
    "            predictions(x_val, theta1, theta2)\n",
    "            acc = accuracy_score(y_val, predictions(x_val, theta1, theta2))\n",
    "            clear_output(wait=True)\n",
    "            if acc > best_acc:\n",
    "                best_reg = reg\n",
    "                best_iters = iters\n",
    "                best_acc = acc\n",
    "            print(best_acc, i * 100/(len(reg_values) * len(iters_values)), '%')\n",
    "    \n",
    "    theta1, theta2 = train(x_train, y_onehot, reg=best_reg, iters=best_iters)\n",
    "    pre = predictions(x_test, theta1, theta2)\n",
    "    au_under_dwayn(y_test, pre, 'Red neuronal')\n",
    "    print(classification_report(y_test,pre))\n",
    "    cm = confusion_matrix(y_test, pre)\n",
    "    disp = ConfusionMatrixDisplay(confusion_matrix=cm)\n",
    "    disp.plot()"
   ]
  },
  {
   "cell_type": "markdown",
   "metadata": {},
   "source": [
    "## Otras Funciones"
   ]
  },
  {
   "cell_type": "code",
   "execution_count": 18,
   "metadata": {},
   "outputs": [],
   "source": [
    "def au_under_dwayn(y_test, lr_probs, model):  \n",
    "    # generate a no skill prediction (majority class)\n",
    "    ns_probs = [0 for _ in range(len(y_test))]\n",
    "    # keep probabilities for the positive outcome only\n",
    "    # calculate scores\n",
    "    ns_auc = roc_auc_score(y_test, ns_probs)\n",
    "    lr_auc = roc_auc_score(y_test, lr_probs)\n",
    "    # summarize scores\n",
    "    print('No Skill : ROC AUC=%.3f' % (ns_auc))\n",
    "    print(model,': ROC AUC=%.3f' % (lr_auc))\n",
    "    # calculate roc curves\n",
    "    ns_fpr, ns_tpr, _ = roc_curve(y_test, ns_probs)\n",
    "    lr_fpr, lr_tpr, _ = roc_curve(y_test, lr_probs)\n",
    "    # plot the roc curve for the model\n",
    "    pyplot.plot(ns_fpr, ns_tpr, linestyle='--', label='No Skill')\n",
    "    pyplot.plot(lr_fpr, lr_tpr, marker='.', label=model)\n",
    "    # axis labels\n",
    "    pyplot.xlabel('False Positive Rate')\n",
    "    pyplot.ylabel('True Positive Rate')\n",
    "    # show the legend\n",
    "    pyplot.legend()\n",
    "    # show the plot\n",
    "    pyplot.show()"
   ]
  }
 ],
 "metadata": {
  "kernelspec": {
   "display_name": "Python 3",
   "language": "python",
   "name": "python3"
  },
  "language_info": {
   "codemirror_mode": {
    "name": "ipython",
    "version": 3
   },
   "file_extension": ".py",
   "mimetype": "text/x-python",
   "name": "python",
   "nbconvert_exporter": "python",
   "pygments_lexer": "ipython3",
   "version": "3.8.5"
  }
 },
 "nbformat": 4,
 "nbformat_minor": 4
}
