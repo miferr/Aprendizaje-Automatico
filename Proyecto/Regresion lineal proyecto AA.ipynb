{
 "cells": [
  {
   "cell_type": "markdown",
   "metadata": {},
   "source": [
    "# Proyecto Final de Aprendizaje Automático: Clasificador de Agua Potable"
   ]
  },
  {
   "cell_type": "markdown",
   "metadata": {},
   "source": [
    "Por Miguel Ferreras Chumillas y Antonio Rodríguez Hurtado"
   ]
  },
  {
   "cell_type": "markdown",
   "metadata": {},
   "source": [
    "## Introducción"
   ]
  },
  {
   "cell_type": "markdown",
   "metadata": {},
   "source": [
    "Nuestro proyecto final para la asignatura Aprendizaje Automático y Big Data consiste en un clasificador que, dados unos datos sobre el agua que deseemos analizar, evalúa y decide si es potable o no. Para ello, hemos utilizado varios de los modelos aprendidos en la asignatura, comparándolos con el fin de obtener el modelo que mayor eficacia muestre.\n",
    "\n",
    "Para el entrenamiento de los modelos, hemos utilizado un dataset proveniente de la plataforma web Kaggle con la composición de distintas muestras de agua, y si éstas son provenientes de agua potable o no. A continuación, veremos el dataset con más detalle."
   ]
  },
  {
   "cell_type": "markdown",
   "metadata": {},
   "source": [
    "## Obtención de Datos y Tratamiento"
   ]
  },
  {
   "cell_type": "markdown",
   "metadata": {},
   "source": [
    "### Análisis de los Datos"
   ]
  },
  {
   "cell_type": "markdown",
   "metadata": {},
   "source": [
    "Los datos sobre la potabilidad del agua están guardados en un archivo con formato csv, por lo que hemos utilizado la librería Pandas de Python para facilitar su extracción y posterior tratamiento y uso. Como se puede ver a continuación, los datos están clasificados según nueve características o atributos distintos, más un atributo adicional que nos indica si el agua es potable o no."
   ]
  },
  {
   "cell_type": "code",
   "execution_count": 16,
   "metadata": {},
   "outputs": [
    {
     "data": {
      "text/html": [
       "<div>\n",
       "<style scoped>\n",
       "    .dataframe tbody tr th:only-of-type {\n",
       "        vertical-align: middle;\n",
       "    }\n",
       "\n",
       "    .dataframe tbody tr th {\n",
       "        vertical-align: top;\n",
       "    }\n",
       "\n",
       "    .dataframe thead th {\n",
       "        text-align: right;\n",
       "    }\n",
       "</style>\n",
       "<table border=\"1\" class=\"dataframe\">\n",
       "  <thead>\n",
       "    <tr style=\"text-align: right;\">\n",
       "      <th></th>\n",
       "      <th>ph</th>\n",
       "      <th>Hardness</th>\n",
       "      <th>Solids</th>\n",
       "      <th>Chloramines</th>\n",
       "      <th>Sulfate</th>\n",
       "      <th>Conductivity</th>\n",
       "      <th>Organic_carbon</th>\n",
       "      <th>Trihalomethanes</th>\n",
       "      <th>Turbidity</th>\n",
       "      <th>Potability</th>\n",
       "    </tr>\n",
       "  </thead>\n",
       "  <tbody>\n",
       "    <tr>\n",
       "      <th>0</th>\n",
       "      <td>NaN</td>\n",
       "      <td>204.890455</td>\n",
       "      <td>20791.318981</td>\n",
       "      <td>7.300212</td>\n",
       "      <td>368.516441</td>\n",
       "      <td>564.308654</td>\n",
       "      <td>10.379783</td>\n",
       "      <td>86.990970</td>\n",
       "      <td>2.963135</td>\n",
       "      <td>0</td>\n",
       "    </tr>\n",
       "    <tr>\n",
       "      <th>1</th>\n",
       "      <td>3.716080</td>\n",
       "      <td>129.422921</td>\n",
       "      <td>18630.057858</td>\n",
       "      <td>6.635246</td>\n",
       "      <td>NaN</td>\n",
       "      <td>592.885359</td>\n",
       "      <td>15.180013</td>\n",
       "      <td>56.329076</td>\n",
       "      <td>4.500656</td>\n",
       "      <td>0</td>\n",
       "    </tr>\n",
       "    <tr>\n",
       "      <th>2</th>\n",
       "      <td>8.099124</td>\n",
       "      <td>224.236259</td>\n",
       "      <td>19909.541732</td>\n",
       "      <td>9.275884</td>\n",
       "      <td>NaN</td>\n",
       "      <td>418.606213</td>\n",
       "      <td>16.868637</td>\n",
       "      <td>66.420093</td>\n",
       "      <td>3.055934</td>\n",
       "      <td>0</td>\n",
       "    </tr>\n",
       "    <tr>\n",
       "      <th>3</th>\n",
       "      <td>8.316766</td>\n",
       "      <td>214.373394</td>\n",
       "      <td>22018.417441</td>\n",
       "      <td>8.059332</td>\n",
       "      <td>356.886136</td>\n",
       "      <td>363.266516</td>\n",
       "      <td>18.436524</td>\n",
       "      <td>100.341674</td>\n",
       "      <td>4.628771</td>\n",
       "      <td>0</td>\n",
       "    </tr>\n",
       "    <tr>\n",
       "      <th>4</th>\n",
       "      <td>9.092223</td>\n",
       "      <td>181.101509</td>\n",
       "      <td>17978.986339</td>\n",
       "      <td>6.546600</td>\n",
       "      <td>310.135738</td>\n",
       "      <td>398.410813</td>\n",
       "      <td>11.558279</td>\n",
       "      <td>31.997993</td>\n",
       "      <td>4.075075</td>\n",
       "      <td>0</td>\n",
       "    </tr>\n",
       "  </tbody>\n",
       "</table>\n",
       "</div>"
      ],
      "text/plain": [
       "         ph    Hardness        Solids  Chloramines     Sulfate  Conductivity  \\\n",
       "0       NaN  204.890455  20791.318981     7.300212  368.516441    564.308654   \n",
       "1  3.716080  129.422921  18630.057858     6.635246         NaN    592.885359   \n",
       "2  8.099124  224.236259  19909.541732     9.275884         NaN    418.606213   \n",
       "3  8.316766  214.373394  22018.417441     8.059332  356.886136    363.266516   \n",
       "4  9.092223  181.101509  17978.986339     6.546600  310.135738    398.410813   \n",
       "\n",
       "   Organic_carbon  Trihalomethanes  Turbidity  Potability  \n",
       "0       10.379783        86.990970   2.963135           0  \n",
       "1       15.180013        56.329076   4.500656           0  \n",
       "2       16.868637        66.420093   3.055934           0  \n",
       "3       18.436524       100.341674   4.628771           0  \n",
       "4       11.558279        31.997993   4.075075           0  "
      ]
     },
     "execution_count": 16,
     "metadata": {},
     "output_type": "execute_result"
    }
   ],
   "source": [
    "datos = pd.read_csv(\"water_potability.csv\")\n",
    "datos.head()"
   ]
  },
  {
   "cell_type": "code",
   "execution_count": 13,
   "metadata": {},
   "outputs": [
    {
     "data": {
      "text/html": [
       "<div>\n",
       "<style scoped>\n",
       "    .dataframe tbody tr th:only-of-type {\n",
       "        vertical-align: middle;\n",
       "    }\n",
       "\n",
       "    .dataframe tbody tr th {\n",
       "        vertical-align: top;\n",
       "    }\n",
       "\n",
       "    .dataframe thead th {\n",
       "        text-align: right;\n",
       "    }\n",
       "</style>\n",
       "<table border=\"1\" class=\"dataframe\">\n",
       "  <thead>\n",
       "    <tr style=\"text-align: right;\">\n",
       "      <th></th>\n",
       "      <th>ph</th>\n",
       "      <th>Hardness</th>\n",
       "      <th>Solids</th>\n",
       "      <th>Chloramines</th>\n",
       "      <th>Sulfate</th>\n",
       "      <th>Conductivity</th>\n",
       "      <th>Organic_carbon</th>\n",
       "      <th>Trihalomethanes</th>\n",
       "      <th>Turbidity</th>\n",
       "      <th>Potability</th>\n",
       "    </tr>\n",
       "  </thead>\n",
       "  <tbody>\n",
       "    <tr>\n",
       "      <th>3271</th>\n",
       "      <td>4.668102</td>\n",
       "      <td>193.681735</td>\n",
       "      <td>47580.991603</td>\n",
       "      <td>7.166639</td>\n",
       "      <td>359.948574</td>\n",
       "      <td>526.424171</td>\n",
       "      <td>13.894419</td>\n",
       "      <td>66.687695</td>\n",
       "      <td>4.435821</td>\n",
       "      <td>1</td>\n",
       "    </tr>\n",
       "    <tr>\n",
       "      <th>3272</th>\n",
       "      <td>7.808856</td>\n",
       "      <td>193.553212</td>\n",
       "      <td>17329.802160</td>\n",
       "      <td>8.061362</td>\n",
       "      <td>NaN</td>\n",
       "      <td>392.449580</td>\n",
       "      <td>19.903225</td>\n",
       "      <td>NaN</td>\n",
       "      <td>2.798243</td>\n",
       "      <td>1</td>\n",
       "    </tr>\n",
       "    <tr>\n",
       "      <th>3273</th>\n",
       "      <td>9.419510</td>\n",
       "      <td>175.762646</td>\n",
       "      <td>33155.578218</td>\n",
       "      <td>7.350233</td>\n",
       "      <td>NaN</td>\n",
       "      <td>432.044783</td>\n",
       "      <td>11.039070</td>\n",
       "      <td>69.845400</td>\n",
       "      <td>3.298875</td>\n",
       "      <td>1</td>\n",
       "    </tr>\n",
       "    <tr>\n",
       "      <th>3274</th>\n",
       "      <td>5.126763</td>\n",
       "      <td>230.603758</td>\n",
       "      <td>11983.869376</td>\n",
       "      <td>6.303357</td>\n",
       "      <td>NaN</td>\n",
       "      <td>402.883113</td>\n",
       "      <td>11.168946</td>\n",
       "      <td>77.488213</td>\n",
       "      <td>4.708658</td>\n",
       "      <td>1</td>\n",
       "    </tr>\n",
       "    <tr>\n",
       "      <th>3275</th>\n",
       "      <td>7.874671</td>\n",
       "      <td>195.102299</td>\n",
       "      <td>17404.177061</td>\n",
       "      <td>7.509306</td>\n",
       "      <td>NaN</td>\n",
       "      <td>327.459760</td>\n",
       "      <td>16.140368</td>\n",
       "      <td>78.698446</td>\n",
       "      <td>2.309149</td>\n",
       "      <td>1</td>\n",
       "    </tr>\n",
       "  </tbody>\n",
       "</table>\n",
       "</div>"
      ],
      "text/plain": [
       "            ph    Hardness        Solids  Chloramines     Sulfate  \\\n",
       "3271  4.668102  193.681735  47580.991603     7.166639  359.948574   \n",
       "3272  7.808856  193.553212  17329.802160     8.061362         NaN   \n",
       "3273  9.419510  175.762646  33155.578218     7.350233         NaN   \n",
       "3274  5.126763  230.603758  11983.869376     6.303357         NaN   \n",
       "3275  7.874671  195.102299  17404.177061     7.509306         NaN   \n",
       "\n",
       "      Conductivity  Organic_carbon  Trihalomethanes  Turbidity  Potability  \n",
       "3271    526.424171       13.894419        66.687695   4.435821           1  \n",
       "3272    392.449580       19.903225              NaN   2.798243           1  \n",
       "3273    432.044783       11.039070        69.845400   3.298875           1  \n",
       "3274    402.883113       11.168946        77.488213   4.708658           1  \n",
       "3275    327.459760       16.140368        78.698446   2.309149           1  "
      ]
     },
     "execution_count": 13,
     "metadata": {},
     "output_type": "execute_result"
    }
   ],
   "source": [
    "datos.tail()"
   ]
  },
  {
   "cell_type": "markdown",
   "metadata": {},
   "source": [
    "Sin embargo, no todos los datos están completos; en algunos de ellos falta información sobre uno o varios de los atributos:"
   ]
  },
  {
   "cell_type": "code",
   "execution_count": 18,
   "metadata": {},
   "outputs": [
    {
     "data": {
      "text/plain": [
       "ph                 491\n",
       "Hardness             0\n",
       "Solids               0\n",
       "Chloramines          0\n",
       "Sulfate            781\n",
       "Conductivity         0\n",
       "Organic_carbon       0\n",
       "Trihalomethanes    162\n",
       "Turbidity            0\n",
       "Potability           0\n",
       "dtype: int64"
      ]
     },
     "execution_count": 18,
     "metadata": {},
     "output_type": "execute_result"
    }
   ],
   "source": [
    "datos.isnull().sum()"
   ]
  },
  {
   "cell_type": "markdown",
   "metadata": {},
   "source": [
    "Por tanto, es algo que deberemos tratar más adelante si queremos que nuestros modelos se entrenen con la mayor efectividad posible.\n",
    "\n",
    "Pero ese no es el único problema de nuestro dataset actual. Si observamos la proporción entre los casos en los que el agua es potable y en los que no, observamos que están descompensados, habiendo mayor casos de agua no potable que de agua potable. Esta desproporción puede hacer que nuestros modelos posean cierto sesgo, por lo que es necesario corregirla más adelante."
   ]
  },
  {
   "cell_type": "code",
   "execution_count": 20,
   "metadata": {},
   "outputs": [
    {
     "data": {
      "text/plain": [
       "0    1998\n",
       "1    1278\n",
       "Name: Potability, dtype: int64"
      ]
     },
     "execution_count": 20,
     "metadata": {},
     "output_type": "execute_result"
    }
   ],
   "source": [
    "datos.Potability.value_counts()"
   ]
  },
  {
   "cell_type": "code",
   "execution_count": 22,
   "metadata": {},
   "outputs": [
    {
     "data": {
      "text/plain": [
       "<AxesSubplot:ylabel='Potability'>"
      ]
     },
     "execution_count": 22,
     "metadata": {},
     "output_type": "execute_result"
    },
    {
     "data": {
      "image/png": "[encoded data removed]",
      "text/plain": [
       "<Figure size 432x288 with 1 Axes>"
      ]
     },
     "metadata": {},
     "output_type": "display_data"
    }
   ],
   "source": [
    "datos.Potability.value_counts().plot(kind='pie')"
   ]
  },
  {
   "cell_type": "markdown",
   "metadata": {},
   "source": [
    "### Tratamiento de Datos"
   ]
  },
  {
   "cell_type": "markdown",
   "metadata": {},
   "source": [
    "Lo primero que haremos será corregir los problemas que hemos descubierto. En primer lugar, trataremos los valores nulos dentro de nuestro dataset.\n",
    "\n",
    "Debido a que la potabilidad del agua es un dato determinante, hemos preferido no tratar los datos con valores nulos de la forma habitual, es decir, asignándole la media global a cada uno de los atributos que faltan. En su lugar, hemos optado por descartar aquellos datos con atributos vacíos, haciendo que el conjunto de datos se reduzca pero asegurándonos de que todos los datos sean válidos."
   ]
  },
  {
   "cell_type": "code",
   "execution_count": 26,
   "metadata": {},
   "outputs": [
    {
     "data": {
      "text/plain": [
       "ph                 0\n",
       "Hardness           0\n",
       "Solids             0\n",
       "Chloramines        0\n",
       "Sulfate            0\n",
       "Conductivity       0\n",
       "Organic_carbon     0\n",
       "Trihalomethanes    0\n",
       "Turbidity          0\n",
       "Potability         0\n",
       "dtype: int64"
      ]
     },
     "execution_count": 26,
     "metadata": {},
     "output_type": "execute_result"
    }
   ],
   "source": [
    "datos = datos.dropna()\n",
    "datos.isnull().sum()"
   ]
  },
  {
   "cell_type": "code",
   "execution_count": 28,
   "metadata": {},
   "outputs": [
    {
     "data": {
      "text/plain": [
       "0    1200\n",
       "1     811\n",
       "Name: Potability, dtype: int64"
      ]
     },
     "execution_count": 28,
     "metadata": {},
     "output_type": "execute_result"
    }
   ],
   "source": [
    "datos.Potability.value_counts()"
   ]
  },
  {
   "cell_type": "code",
   "execution_count": 29,
   "metadata": {},
   "outputs": [
    {
     "data": {
      "text/plain": [
       "<AxesSubplot:ylabel='Potability'>"
      ]
     },
     "execution_count": 29,
     "metadata": {},
     "output_type": "execute_result"
    },
    {
     "data": {
      "image/png": "[encoded data removed]",
      "text/plain": [
       "<Figure size 432x288 with 1 Axes>"
      ]
     },
     "metadata": {},
     "output_type": "display_data"
    }
   ],
   "source": [
    "datos.Potability.value_counts().plot(kind='pie')"
   ]
  },
  {
   "cell_type": "markdown",
   "metadata": {},
   "source": [
    "Como podemos observar, pese a que hemos eliminado parte de los datos la desproporción se mantiene, por lo que es necesario tratarla para alcanzar un equilibrio entre los datos con agua potable y con agua no potable.\n",
    "\n",
    "Para ello, crearemos nuevos datos a partir de los ya existentes hasta alcanzar dicho equilibrio, de la siguiente forma:"
   ]
  },
  {
   "cell_type": "code",
   "execution_count": 30,
   "metadata": {},
   "outputs": [
    {
     "data": {
      "text/plain": [
       "<AxesSubplot:ylabel='Potability'>"
      ]
     },
     "execution_count": 30,
     "metadata": {},
     "output_type": "execute_result"
    },
    {
     "data": {
      "image/png": "[encoded data removed]",
      "text/plain": [
       "<Figure size 432x288 with 1 Axes>"
      ]
     },
     "metadata": {},
     "output_type": "display_data"
    }
   ],
   "source": [
    "zero  = datos[datos['Potability']==0]  \n",
    "one = datos[datos['Potability']==1] \n",
    "\n",
    "df_minority_upsampled = resample(one, replace = True, n_samples = 1200) \n",
    "\n",
    "datos = pd.concat([zero, df_minority_upsampled])\n",
    "datos = shuffle(datos) \n",
    "\n",
    "datos.Potability.value_counts().plot(kind='pie')"
   ]
  },
  {
   "cell_type": "markdown",
   "metadata": {},
   "source": [
    "Nuestros datos ya están listos para utilizarse, por lo que ya tan solo queda dividirlos en los diferentes conjuntos de datos que vayamos a usar en nuestros modelos."
   ]
  },
  {
   "cell_type": "code",
   "execution_count": 31,
   "metadata": {},
   "outputs": [],
   "source": [
    "X = datos.drop(['Potability'], axis = 1)\n",
    "y = datos['Potability']\n",
    "\n",
    "from sklearn.preprocessing import StandardScaler\n",
    "sc = StandardScaler()\n",
    "features= X.columns\n",
    "X[features] = sc.fit_transform(X[features])\n",
    "\n",
    "x_train, x_test, y_train, y_test = train_test_split(X,y, test_size = 0.2, random_state=1)"
   ]
  },
  {
   "cell_type": "markdown",
   "metadata": {},
   "source": [
    "## Modelos del Clasificador"
   ]
  },
  {
   "cell_type": "code",
   "execution_count": null,
   "metadata": {},
   "outputs": [],
   "source": []
  },
  {
   "cell_type": "markdown",
   "metadata": {},
   "source": [
    "# Apéndice: Código"
   ]
  },
  {
   "cell_type": "code",
   "execution_count": null,
   "metadata": {},
   "outputs": [],
   "source": [
    "import numpy as np\n",
    "import pandas as pd\n",
    "import matplotlib.pyplot as plt\n",
    "import scipy.optimize as opt\n",
    "from sklearn.model_selection import train_test_split\n",
    "from sklearn.svm import SVC\n",
    "from sklearn.metrics import accuracy_score\n",
    "from IPython.display import clear_output\n",
    "from sklearn.metrics import roc_curve\n",
    "from sklearn.metrics import roc_auc_score\n",
    "from matplotlib import pyplot\n",
    "from sklearn.utils import resample\n",
    "from sklearn.utils import shuffle\n",
    "from sklearn.metrics import classification_report\n",
    "from sklearn.metrics import confusion_matrix, ConfusionMatrixDisplay"
   ]
  },
  {
   "cell_type": "markdown",
   "metadata": {},
   "source": [
    "# Funciones para regresion logistica"
   ]
  },
  {
   "cell_type": "code",
   "execution_count": 78,
   "metadata": {},
   "outputs": [],
   "source": [
    "def sigmoid(z):\n",
    "    return 1 / (1 + np.exp(-z))\n",
    "\n",
    "def hip(X, theta):\n",
    "    return sigmoid(np.dot(X, theta))\n",
    "\n",
    "def cost(theta, X, Y, m, lamda):\n",
    "    return (-1 / m) * (np.dot(Y, np.log(hip(X, theta))) + np.dot((1 - Y), np.log(1 - hip(X, theta)))) + (lamda / (2 * m)) * np.sum(np.power(theta, 2))               \n",
    "\n",
    "def gradient(theta, X, Y, m, lamda):\n",
    "    gradiente =  ((1 / m) * np.matmul((hip(X, theta) - Y), X))\n",
    "    result = gradiente[0]\n",
    "    i = 1\n",
    "    for e in gradiente[1:]:\n",
    "        result = np.append(result, e + ((lamda / m) * theta[i]))\n",
    "        i += 1\n",
    "    return result\n",
    "\n",
    "\n",
    "def regresion_logistica(x_train, y_train, x_test, y_test):\n",
    "    lamda = 0.1\n",
    "    theta = [0] * (9)\n",
    "    result = opt.fmin_tnc(func=cost, x0=theta, fprime=gradient, args=(x_train, y_train, np.shape(x_train)[0], lamda))\n",
    "    theta_opt = result[0]\n",
    "\n",
    "    \n",
    "    au_under_dwayn(y_test, hip(x_test,theta_opt), 'Regresion logistica')\n",
    "    print(classification_report(y_test,hip(x_test,theta_opt).round()))\n",
    "    \n",
    "    "
   ]
  },
  {
   "cell_type": "code",
   "execution_count": 80,
   "metadata": {},
   "outputs": [
    {
     "name": "stdout",
     "output_type": "stream",
     "text": [
      "No Skill : ROC AUC=0.500\n",
      "Regresion logistica : ROC AUC=0.483\n"
     ]
    },
    {
     "data": {
      "image/png": "[encoded data removed]",
      "text/plain": [
       "<Figure size 432x288 with 1 Axes>"
      ]
     },
     "metadata": {
      "needs_background": "light"
     },
     "output_type": "display_data"
    },
    {
     "name": "stdout",
     "output_type": "stream",
     "text": [
      "              precision    recall  f1-score   support\n",
      "\n",
      "           0       0.45      0.49      0.47       235\n",
      "           1       0.47      0.43      0.45       245\n",
      "\n",
      "    accuracy                           0.46       480\n",
      "   macro avg       0.46      0.46      0.46       480\n",
      "weighted avg       0.46      0.46      0.46       480\n",
      "\n"
     ]
    }
   ],
   "source": [
    "regresion_logistica(x_train, y_train, x_test, y_test)"
   ]
  },
  {
   "cell_type": "markdown",
   "metadata": {},
   "source": [
    "# Funciones para kernel svm"
   ]
  },
  {
   "cell_type": "code",
   "execution_count": 12,
   "metadata": {},
   "outputs": [
    {
     "name": "stdout",
     "output_type": "stream",
     "text": [
      "0.7895833333333333 100.0 %\n",
      "No Skill : ROC AUC=0.500\n",
      "Kernel rbf : ROC AUC=0.821\n"
     ]
    },
    {
     "data": {
      "image/png": "[encoded data removed]",
      "text/plain": [
       "<Figure size 432x288 with 1 Axes>"
      ]
     },
     "metadata": {
      "needs_background": "light"
     },
     "output_type": "display_data"
    },
    {
     "name": "stdout",
     "output_type": "stream",
     "text": [
      "              precision    recall  f1-score   support\n",
      "\n",
      "           0       0.76      1.00      0.86       256\n",
      "           1       1.00      0.64      0.78       224\n",
      "\n",
      "    accuracy                           0.83       480\n",
      "   macro avg       0.88      0.82      0.82       480\n",
      "weighted avg       0.87      0.83      0.83       480\n",
      "\n"
     ]
    },
    {
     "data": {
      "text/plain": [
       "<sklearn.metrics._plot.confusion_matrix.ConfusionMatrixDisplay at 0x177ff212760>"
      ]
     },
     "execution_count": 12,
     "metadata": {},
     "output_type": "execute_result"
    },
    {
     "data": {
      "image/png": "[encoded data removed]",
      "text/plain": [
       "<Figure size 432x288 with 2 Axes>"
      ]
     },
     "metadata": {
      "needs_background": "light"
     },
     "output_type": "display_data"
    }
   ],
   "source": [
    "def kernel_rbf(x_train, y_train, x_test, y_test):\n",
    "    x_train, x_val, y_train, y_val = train_test_split(x_train, y_train, test_size=0.25, random_state=1) # 0.25 x 0.8 = 0.2\n",
    "    \n",
    "    values = np.linspace(0.1,100, 10, dtype=float)\n",
    "    best_C = 0\n",
    "    best_sigma = 0\n",
    "    best_acc = 0\n",
    "    i = 0\n",
    "    for C in values:\n",
    "        for sigma in values:\n",
    "            i = i+1\n",
    "            svm = SVC(kernel='rbf', C=C, gamma=1 / (2 * sigma**2))\n",
    "            svm.fit(x_train, y_train)\n",
    "            acc = accuracy_score(y_val, svm.predict(x_val))\n",
    "            clear_output(wait=True)\n",
    "            if acc > best_acc:\n",
    "                best_C = C\n",
    "                best_sigma = sigma\n",
    "                best_acc = acc\n",
    "            print(best_acc, i * 100/len(values)**2, '%')\n",
    "    return best_C, best_sigma\n",
    "\n",
    "best_C, best_sigma = kernel_rbf(x_train, y_train, x_test, y_test)\n",
    "svm = SVC(kernel='rbf', C=best_C, gamma=1 / (2 * best_sigma**2), probability=True)\n",
    "svm.fit(x_train, y_train)\n",
    "y_score = svm.decision_function(x_test)\n",
    "\n",
    "au_under_dwayn(y_test, svm.predict(x_test), 'Kernel rbf')\n",
    "print(classification_report(y_test,np.where(y_score > 0, 1, 0)))\n",
    "\n",
    "cm = confusion_matrix(y_test, np.where(y_score > 0, 1, 0))\n",
    "disp = ConfusionMatrixDisplay(confusion_matrix=cm, display_labels=svm.classes_)\n",
    "disp.plot()"
   ]
  },
  {
   "cell_type": "markdown",
   "metadata": {},
   "source": [
    "# The fucking neural network"
   ]
  },
  {
   "cell_type": "code",
   "execution_count": 162,
   "metadata": {},
   "outputs": [],
   "source": [
    "import tensorflow as tf\n",
    "from tensorflow.keras.models import Sequential\n",
    "from tensorflow.keras.layers import Dense, Convolution2D, MaxPooling2D, Flatten\n"
   ]
  },
  {
   "cell_type": "code",
   "execution_count": 165,
   "metadata": {},
   "outputs": [],
   "source": [
    "def neural(x_train, y_train):\n",
    "    \n",
    "    model = Sequential()\n",
    "    model.add(Flatten())\n",
    "    model.add(Dense(128, activation='relu'))\n",
    "    model.add(Dense(64, activation='relu'))\n",
    "    model.add(Dense(2, activation='sigmoid'))\n",
    "    \n",
    "    model.compile(optimizer= 'adam', loss='sparse_categorical_crossentropy', metrics=['accuracy'])\n",
    "    model.fit(x_train, y_train ,steps_per_epoch=len(x_train) / 32, epochs=100)\n",
    "\n",
    "    return model"
   ]
  },
  {
   "cell_type": "code",
   "execution_count": 166,
   "metadata": {},
   "outputs": [
    {
     "name": "stdout",
     "output_type": "stream",
     "text": [
      "Epoch 1/100\n",
      "60/60 [==============================] - 0s 578us/step - loss: 0.6903 - accuracy: 0.5301\n",
      "Epoch 2/100\n",
      "60/60 [==============================] - 0s 497us/step - loss: 0.6245 - accuracy: 0.6774\n",
      "Epoch 3/100\n",
      "60/60 [==============================] - 0s 439us/step - loss: 0.5875 - accuracy: 0.7051\n",
      "Epoch 4/100\n",
      "60/60 [==============================] - 0s 473us/step - loss: 0.5683 - accuracy: 0.7054\n",
      "Epoch 5/100\n",
      "60/60 [==============================] - 0s 487us/step - loss: 0.5435 - accuracy: 0.7246\n",
      "Epoch 6/100\n",
      "60/60 [==============================] - 0s 467us/step - loss: 0.5280 - accuracy: 0.7406\n",
      "Epoch 7/100\n",
      "60/60 [==============================] - ETA: 0s - loss: 0.5735 - accuracy: 0.65 - 0s 462us/step - loss: 0.5218 - accuracy: 0.7326\n",
      "Epoch 8/100\n",
      "60/60 [==============================] - 0s 462us/step - loss: 0.5012 - accuracy: 0.7533\n",
      "Epoch 9/100\n",
      "60/60 [==============================] - 0s 490us/step - loss: 0.4921 - accuracy: 0.7732\n",
      "Epoch 10/100\n",
      "60/60 [==============================] - 0s 545us/step - loss: 0.4988 - accuracy: 0.7636\n",
      "Epoch 11/100\n",
      "60/60 [==============================] - 0s 482us/step - loss: 0.4663 - accuracy: 0.7802\n",
      "Epoch 12/100\n",
      "60/60 [==============================] - 0s 522us/step - loss: 0.4533 - accuracy: 0.8034\n",
      "Epoch 13/100\n",
      "60/60 [==============================] - 0s 474us/step - loss: 0.4628 - accuracy: 0.7808\n",
      "Epoch 14/100\n",
      "60/60 [==============================] - 0s 463us/step - loss: 0.4473 - accuracy: 0.7951\n",
      "Epoch 15/100\n",
      "60/60 [==============================] - 0s 489us/step - loss: 0.4359 - accuracy: 0.7974\n",
      "Epoch 16/100\n",
      "60/60 [==============================] - 0s 490us/step - loss: 0.4421 - accuracy: 0.7949\n",
      "Epoch 17/100\n",
      "60/60 [==============================] - 0s 451us/step - loss: 0.4391 - accuracy: 0.8008\n",
      "Epoch 18/100\n",
      "60/60 [==============================] - 0s 482us/step - loss: 0.4054 - accuracy: 0.8240\n",
      "Epoch 19/100\n",
      "60/60 [==============================] - 0s 456us/step - loss: 0.4083 - accuracy: 0.8134\n",
      "Epoch 20/100\n",
      "60/60 [==============================] - 0s 450us/step - loss: 0.3896 - accuracy: 0.8404\n",
      "Epoch 21/100\n",
      "60/60 [==============================] - 0s 448us/step - loss: 0.3716 - accuracy: 0.8403\n",
      "Epoch 22/100\n",
      "60/60 [==============================] - 0s 528us/step - loss: 0.3605 - accuracy: 0.8526\n",
      "Epoch 23/100\n",
      "60/60 [==============================] - 0s 473us/step - loss: 0.3579 - accuracy: 0.8549\n",
      "Epoch 24/100\n",
      "60/60 [==============================] - 0s 465us/step - loss: 0.3335 - accuracy: 0.8725\n",
      "Epoch 25/100\n",
      "60/60 [==============================] - 0s 454us/step - loss: 0.3419 - accuracy: 0.8718\n",
      "Epoch 26/100\n",
      "60/60 [==============================] - 0s 456us/step - loss: 0.3101 - accuracy: 0.8800\n",
      "Epoch 27/100\n",
      "60/60 [==============================] - 0s 600us/step - loss: 0.3074 - accuracy: 0.8823\n",
      "Epoch 28/100\n",
      "60/60 [==============================] - 0s 476us/step - loss: 0.3073 - accuracy: 0.8831\n",
      "Epoch 29/100\n",
      "60/60 [==============================] - 0s 484us/step - loss: 0.2933 - accuracy: 0.9024\n",
      "Epoch 30/100\n",
      "60/60 [==============================] - 0s 456us/step - loss: 0.2811 - accuracy: 0.9071\n",
      "Epoch 31/100\n",
      "60/60 [==============================] - 0s 456us/step - loss: 0.2829 - accuracy: 0.8992\n",
      "Epoch 32/100\n",
      "60/60 [==============================] - 0s 440us/step - loss: 0.2753 - accuracy: 0.9035\n",
      "Epoch 33/100\n",
      "60/60 [==============================] - 0s 468us/step - loss: 0.2498 - accuracy: 0.9169\n",
      "Epoch 34/100\n",
      "60/60 [==============================] - 0s 524us/step - loss: 0.2394 - accuracy: 0.9166\n",
      "Epoch 35/100\n",
      "60/60 [==============================] - 0s 472us/step - loss: 0.2482 - accuracy: 0.9126\n",
      "Epoch 36/100\n",
      "60/60 [==============================] - 0s 473us/step - loss: 0.2325 - accuracy: 0.9293\n",
      "Epoch 37/100\n",
      "60/60 [==============================] - 0s 513us/step - loss: 0.2204 - accuracy: 0.9325\n",
      "Epoch 38/100\n",
      "60/60 [==============================] - 0s 472us/step - loss: 0.2100 - accuracy: 0.9368\n",
      "Epoch 39/100\n",
      "60/60 [==============================] - 0s 490us/step - loss: 0.2055 - accuracy: 0.9397\n",
      "Epoch 40/100\n",
      "60/60 [==============================] - 0s 483us/step - loss: 0.1955 - accuracy: 0.9451\n",
      "Epoch 41/100\n",
      "60/60 [==============================] - 0s 481us/step - loss: 0.2033 - accuracy: 0.9357\n",
      "Epoch 42/100\n",
      "60/60 [==============================] - 0s 484us/step - loss: 0.2011 - accuracy: 0.9379\n",
      "Epoch 43/100\n",
      "60/60 [==============================] - 0s 496us/step - loss: 0.1896 - accuracy: 0.9454\n",
      "Epoch 44/100\n",
      "60/60 [==============================] - 0s 491us/step - loss: 0.1727 - accuracy: 0.9554\n",
      "Epoch 45/100\n",
      "60/60 [==============================] - 0s 490us/step - loss: 0.1616 - accuracy: 0.9566\n",
      "Epoch 46/100\n",
      "60/60 [==============================] - 0s 483us/step - loss: 0.1591 - accuracy: 0.9590\n",
      "Epoch 47/100\n",
      "60/60 [==============================] - 0s 473us/step - loss: 0.1618 - accuracy: 0.9533\n",
      "Epoch 48/100\n",
      "60/60 [==============================] - 0s 490us/step - loss: 0.1413 - accuracy: 0.9663\n",
      "Epoch 49/100\n",
      "60/60 [==============================] - 0s 483us/step - loss: 0.1382 - accuracy: 0.9689\n",
      "Epoch 50/100\n",
      "60/60 [==============================] - 0s 524us/step - loss: 0.1350 - accuracy: 0.9719\n",
      "Epoch 51/100\n",
      "60/60 [==============================] - 0s 492us/step - loss: 0.1241 - accuracy: 0.9739\n",
      "Epoch 52/100\n",
      "60/60 [==============================] - 0s 490us/step - loss: 0.1261 - accuracy: 0.9762\n",
      "Epoch 53/100\n",
      "60/60 [==============================] - 0s 473us/step - loss: 0.1363 - accuracy: 0.9600\n",
      "Epoch 54/100\n",
      "60/60 [==============================] - 0s 541us/step - loss: 0.1150 - accuracy: 0.9791\n",
      "Epoch 55/100\n",
      "60/60 [==============================] - 0s 450us/step - loss: 0.1120 - accuracy: 0.9830\n",
      "Epoch 56/100\n",
      "60/60 [==============================] - 0s 439us/step - loss: 0.1119 - accuracy: 0.9770\n",
      "Epoch 57/100\n",
      "60/60 [==============================] - 0s 456us/step - loss: 0.1008 - accuracy: 0.9853\n",
      "Epoch 58/100\n",
      "60/60 [==============================] - 0s 456us/step - loss: 0.1024 - accuracy: 0.9830\n",
      "Epoch 59/100\n",
      "60/60 [==============================] - 0s 450us/step - loss: 0.0945 - accuracy: 0.9787\n",
      "Epoch 60/100\n",
      "60/60 [==============================] - 0s 473us/step - loss: 0.0961 - accuracy: 0.9865\n",
      "Epoch 61/100\n",
      "60/60 [==============================] - 0s 558us/step - loss: 0.0869 - accuracy: 0.9848\n",
      "Epoch 62/100\n",
      "60/60 [==============================] - 0s 466us/step - loss: 0.0929 - accuracy: 0.9870\n",
      "Epoch 63/100\n",
      "60/60 [==============================] - 0s 439us/step - loss: 0.0753 - accuracy: 0.9907\n",
      "Epoch 64/100\n",
      "60/60 [==============================] - 0s 484us/step - loss: 0.0814 - accuracy: 0.9908\n",
      "Epoch 65/100\n",
      "60/60 [==============================] - 0s 435us/step - loss: 0.0709 - accuracy: 0.9941\n",
      "Epoch 66/100\n",
      "60/60 [==============================] - 0s 490us/step - loss: 0.0720 - accuracy: 0.9924\n",
      "Epoch 67/100\n",
      "60/60 [==============================] - 0s 490us/step - loss: 0.0683 - accuracy: 0.9945\n",
      "Epoch 68/100\n",
      "60/60 [==============================] - 0s 439us/step - loss: 0.0571 - accuracy: 0.9966\n",
      "Epoch 69/100\n",
      "60/60 [==============================] - 0s 440us/step - loss: 0.0665 - accuracy: 0.9928\n",
      "Epoch 70/100\n",
      "60/60 [==============================] - 0s 473us/step - loss: 0.0536 - accuracy: 0.9966\n",
      "Epoch 71/100\n",
      "60/60 [==============================] - 0s 491us/step - loss: 0.0557 - accuracy: 0.9967\n",
      "Epoch 72/100\n",
      "60/60 [==============================] - 0s 472us/step - loss: 0.0560 - accuracy: 0.9954\n",
      "Epoch 73/100\n",
      "60/60 [==============================] - 0s 468us/step - loss: 0.0480 - accuracy: 0.9984\n",
      "Epoch 74/100\n",
      "60/60 [==============================] - 0s 457us/step - loss: 0.0517 - accuracy: 0.9933\n",
      "Epoch 75/100\n",
      "60/60 [==============================] - 0s 490us/step - loss: 0.0439 - accuracy: 0.9983\n",
      "Epoch 76/100\n",
      "60/60 [==============================] - 0s 456us/step - loss: 0.0515 - accuracy: 0.9946\n",
      "Epoch 77/100\n",
      "60/60 [==============================] - 0s 473us/step - loss: 0.0421 - accuracy: 0.9995\n",
      "Epoch 78/100\n",
      "60/60 [==============================] - 0s 456us/step - loss: 0.0452 - accuracy: 0.9971\n",
      "Epoch 79/100\n",
      "60/60 [==============================] - 0s 456us/step - loss: 0.0407 - accuracy: 0.9986\n",
      "Epoch 80/100\n",
      "60/60 [==============================] - 0s 468us/step - loss: 0.0380 - accuracy: 0.9988\n"
     ]
    },
    {
     "name": "stdout",
     "output_type": "stream",
     "text": [
      "Epoch 81/100\n",
      "60/60 [==============================] - 0s 440us/step - loss: 0.0348 - accuracy: 0.9999\n",
      "Epoch 82/100\n",
      "60/60 [==============================] - 0s 439us/step - loss: 0.0353 - accuracy: 0.9990\n",
      "Epoch 83/100\n",
      "60/60 [==============================] - 0s 456us/step - loss: 0.0321 - accuracy: 0.9990\n",
      "Epoch 84/100\n",
      "60/60 [==============================] - 0s 501us/step - loss: 0.0309 - accuracy: 0.9997\n",
      "Epoch 85/100\n",
      "60/60 [==============================] - 0s 465us/step - loss: 0.0332 - accuracy: 0.9994\n",
      "Epoch 86/100\n",
      "60/60 [==============================] - 0s 456us/step - loss: 0.0285 - accuracy: 0.9989\n",
      "Epoch 87/100\n",
      "60/60 [==============================] - 0s 439us/step - loss: 0.0285 - accuracy: 0.9986\n",
      "Epoch 88/100\n",
      "60/60 [==============================] - 0s 541us/step - loss: 0.0266 - accuracy: 0.9992\n",
      "Epoch 89/100\n",
      "60/60 [==============================] - 0s 439us/step - loss: 0.0239 - accuracy: 1.0000\n",
      "Epoch 90/100\n",
      "60/60 [==============================] - 0s 456us/step - loss: 0.0247 - accuracy: 0.9994\n",
      "Epoch 91/100\n",
      "60/60 [==============================] - 0s 456us/step - loss: 0.0224 - accuracy: 1.0000\n",
      "Epoch 92/100\n",
      "60/60 [==============================] - 0s 439us/step - loss: 0.0191 - accuracy: 0.9999\n",
      "Epoch 93/100\n",
      "60/60 [==============================] - 0s 457us/step - loss: 0.0222 - accuracy: 1.0000\n",
      "Epoch 94/100\n",
      "60/60 [==============================] - 0s 524us/step - loss: 0.0204 - accuracy: 0.9998\n",
      "Epoch 95/100\n",
      "60/60 [==============================] - 0s 541us/step - loss: 0.0202 - accuracy: 1.0000\n",
      "Epoch 96/100\n",
      "60/60 [==============================] - 0s 558us/step - loss: 0.0181 - accuracy: 1.0000\n",
      "Epoch 97/100\n",
      "60/60 [==============================] - 0s 439us/step - loss: 0.0191 - accuracy: 1.0000\n",
      "Epoch 98/100\n",
      "60/60 [==============================] - 0s 487us/step - loss: 0.0152 - accuracy: 1.0000\n",
      "Epoch 99/100\n",
      "60/60 [==============================] - 0s 473us/step - loss: 0.0153 - accuracy: 1.0000\n",
      "Epoch 100/100\n",
      "60/60 [==============================] - 0s 456us/step - loss: 0.0153 - accuracy: 1.0000\n"
     ]
    }
   ],
   "source": [
    "model = neural(x_train, y_train)\n",
    "pre_test = model.predict(x_test)"
   ]
  },
  {
   "cell_type": "code",
   "execution_count": 167,
   "metadata": {},
   "outputs": [],
   "source": [
    "z = []\n",
    "for e in pre_test:\n",
    "    if e[0] > e[1]:\n",
    "        z.append(0)\n",
    "    else:\n",
    "        z.append(1)"
   ]
  },
  {
   "cell_type": "code",
   "execution_count": 85,
   "metadata": {},
   "outputs": [
    {
     "name": "stdout",
     "output_type": "stream",
     "text": [
      "No Skill : ROC AUC=0.500\n",
      "Red neuronal : ROC AUC=0.589\n"
     ]
    },
    {
     "data": {
      "image/png": "[encoded data removed]",
      "text/plain": [
       "<Figure size 432x288 with 1 Axes>"
      ]
     },
     "metadata": {
      "needs_background": "light"
     },
     "output_type": "display_data"
    },
    {
     "name": "stdout",
     "output_type": "stream",
     "text": [
      "              precision    recall  f1-score   support\n",
      "\n",
      "           0       0.64      0.38      0.48       235\n",
      "           1       0.57      0.80      0.67       245\n",
      "\n",
      "    accuracy                           0.59       480\n",
      "   macro avg       0.61      0.59      0.57       480\n",
      "weighted avg       0.61      0.59      0.57       480\n",
      "\n"
     ]
    },
    {
     "data": {
      "text/plain": [
       "<sklearn.metrics._plot.confusion_matrix.ConfusionMatrixDisplay at 0x1778d3392b0>"
      ]
     },
     "execution_count": 85,
     "metadata": {},
     "output_type": "execute_result"
    },
    {
     "data": {
      "image/png": "[encoded data removed]",
      "text/plain": [
       "<Figure size 432x288 with 2 Axes>"
      ]
     },
     "metadata": {
      "needs_background": "light"
     },
     "output_type": "display_data"
    }
   ],
   "source": [
    "au_under_dwayn(y_test, z, 'Red neuronal')\n",
    "print(classification_report(y_test,z))\n",
    "\n",
    "cm = confusion_matrix(y_test, z)\n",
    "disp = ConfusionMatrixDisplay(confusion_matrix=cm, display_labels=svm.classes_)\n",
    "disp.plot()"
   ]
  },
  {
   "cell_type": "code",
   "execution_count": 158,
   "metadata": {},
   "outputs": [],
   "source": [
    "y_onehot = np.zeros((np.shape(x_train)[0], 2))\n",
    "for i in range(np.shape(x_train)[0]):\n",
    "    y_onehot[i][y_train.iloc[i]] = 1.0\n",
    "\n",
    "#-------------------------------------------------------\n",
    "#   Definimos la funcion sigmoide\n",
    "def sigmoid(z):\n",
    "    return 1 / (1 + np.exp(-z))\n",
    "\n",
    "#   Defininmos la funcion de hipotesis\n",
    "def hip(a, b):\n",
    "    return sigmoid(np.matmul(a, b))\n",
    "\n",
    "#   Definimos la funcion de propagacion hacia adelante\n",
    "def forward_propagate(X, Theta1, Theta2):\n",
    "    m = X.shape[0]\n",
    "    A1 = np.hstack([np.ones([m, 1]), X])\n",
    "    Z2 = np.dot(A1, Theta1.T)\n",
    "    A2 = np.hstack([np.ones([m, 1]), sigmoid(Z2)])\n",
    "    Z3 = np.dot(A2, Theta2.T)\n",
    "    H = sigmoid(Z3)\n",
    "    return A1, Z2, A2, Z3, H\n",
    "\n",
    "def cost(H, Y, Theta1, Theta2, reg):\n",
    "    m = len(Y)\n",
    "    th1 = np.delete(Theta1, 0, axis=1)\n",
    "    th2 = np.delete(Theta2, 0, axis=1)\n",
    "    suma = 0\n",
    "    for i in range(m):\n",
    "        suma += np.sum((np.matmul(-Y[i,:], np.log(H[i,:])) - np.matmul((1 - Y[i,:]), np.log(1 - H[i,:]))))\n",
    "    return ((1 / m) * suma) + ((reg / (2 * m)) * (np.sum(np.power(th1, 2)) + np.sum(np.power(th2, 2))))\n",
    "\n",
    "\n",
    "def cash_converter(H):\n",
    "    x = []\n",
    "    for e in H:\n",
    "        if e[0] > e[1]:\n",
    "            x.append(0)\n",
    "        else:\n",
    "            x.append(1)\n",
    "    return x\n",
    "\n",
    "def backprop(params_rn, num_entradas, num_ocultas, num_etiquetas, X, y, reg):\n",
    "    m = X.shape[0]\n",
    "    Theta1 = np.reshape(params_rn[:num_ocultas * (num_entradas + 1)], (num_ocultas, (num_entradas + 1)))\n",
    "    Theta2 = np.reshape(params_rn[num_ocultas * (num_entradas + 1):], (num_etiquetas, (num_ocultas + 1)))\n",
    "    A1, Z2, A2, Z3, H = forward_propagate(X, Theta1, Theta2)\n",
    "    #Llamada a la funcion para calcular el coste\n",
    "\n",
    "    coste = cost(H, y, Theta1, Theta2, reg)\n",
    "\n",
    "    #Back-propagation\n",
    "    Delta1, Delta2 = np.zeros(Theta1.shape), np.zeros(Theta2.shape)\n",
    "    sigma3 = (H - y)\n",
    "    Delta2 += np.dot(sigma3.T, A2)\n",
    "    Delta1 += np.dot(np.delete(np.dot(sigma3, Theta2) * (A2 * (1 - A2)), 0, axis=1).T, A1)\n",
    "    D1 = Delta1 / m\n",
    "    D2 = Delta2 / m\n",
    "    #Regularizacion del gradiente\n",
    "    D1[:, 1:] = D1[:, 1:] + (reg * Theta1[:, 1:]) / m\n",
    "    D2[:, 1:] = D2[:, 1:] + (reg * Theta2[:, 1:]) / m\n",
    "       \n",
    "    return coste, np.concatenate((D1, D2), axis=None)\n",
    "\n",
    "\n",
    "def pesosAleatorios(L_in, L_out):\n",
    "    ini_epsilon = 0.12\n",
    "    theta = np.random.rand(L_out, 1 + L_in) * (2*ini_epsilon) - ini_epsilon \n",
    "    return theta \n",
    "\n",
    "def train(X, y, reg, iters):\n",
    "    num_entradas = X.shape[1]\n",
    "    num_ocultas = 64\n",
    "    num_etiquetas = 2\n",
    "\n",
    "    theta1 = pesosAleatorios(num_entradas, num_ocultas)\n",
    "    theta2 = pesosAleatorios(num_ocultas, num_etiquetas)\n",
    "    params = np.concatenate((np.ravel(theta1), np.ravel(theta2)))\n",
    "\n",
    "    fmin = opt.minimize(fun=backprop, x0=params, \n",
    "                 args=(num_entradas, num_ocultas, num_etiquetas, X, y, reg),\n",
    "                 method='TNC', jac=True, options={'maxiter' : iters})\n",
    "\n",
    "    theta1 = np.reshape(fmin.x[:num_ocultas * (num_entradas + 1)],\n",
    "                       (num_ocultas, (num_entradas + 1)))\n",
    "    theta2 = np.reshape(fmin.x[num_ocultas * (num_entradas + 1):],\n",
    "                       (num_etiquetas, (num_ocultas + 1)))\n",
    "    \n",
    "    return theta1, theta2\n",
    "\n",
    "def predictions(X, theta1, theta2):\n",
    "    a1, z2, a2, z2, h = forward_propagate(X, theta1, theta2)\n",
    "    predictions = np.argmax(h, axis=1)\n",
    "    return predictions\n"
   ]
  },
  {
   "cell_type": "code",
   "execution_count": 159,
   "metadata": {},
   "outputs": [],
   "source": [
    "theta1, theta2 = train(x_train, y_onehot, reg=0.5, iters=100)\n",
    "pre = predictions(x_test, theta1, theta2)"
   ]
  },
  {
   "cell_type": "code",
   "execution_count": 161,
   "metadata": {},
   "outputs": [
    {
     "name": "stdout",
     "output_type": "stream",
     "text": [
      "No Skill : ROC AUC=0.500\n",
      "Red neuronal : ROC AUC=0.658\n"
     ]
    },
    {
     "data": {
      "image/png": "[encoded data removed]",
      "text/plain": [
       "<Figure size 432x288 with 1 Axes>"
      ]
     },
     "metadata": {
      "needs_background": "light"
     },
     "output_type": "display_data"
    },
    {
     "name": "stdout",
     "output_type": "stream",
     "text": [
      "              precision    recall  f1-score   support\n",
      "\n",
      "           0       0.65      0.66      0.66       235\n",
      "           1       0.67      0.65      0.66       245\n",
      "\n",
      "    accuracy                           0.66       480\n",
      "   macro avg       0.66      0.66      0.66       480\n",
      "weighted avg       0.66      0.66      0.66       480\n",
      "\n"
     ]
    },
    {
     "data": {
      "text/plain": [
       "<sklearn.metrics._plot.confusion_matrix.ConfusionMatrixDisplay at 0x1778d363490>"
      ]
     },
     "execution_count": 161,
     "metadata": {},
     "output_type": "execute_result"
    },
    {
     "data": {
      "image/png": "[encoded data removed]",
      "text/plain": [
       "<Figure size 432x288 with 2 Axes>"
      ]
     },
     "metadata": {
      "needs_background": "light"
     },
     "output_type": "display_data"
    }
   ],
   "source": [
    "au_under_dwayn(y_test, pre, 'Red neuronal')\n",
    "print(classification_report(y_test,pre))\n",
    "cm = confusion_matrix(y_test, pre)\n",
    "disp = ConfusionMatrixDisplay(confusion_matrix=cm)\n",
    "disp.plot()"
   ]
  },
  {
   "cell_type": "markdown",
   "metadata": {},
   "source": [
    "# Otras funciones necesarias para la practica"
   ]
  },
  {
   "cell_type": "code",
   "execution_count": 2,
   "metadata": {},
   "outputs": [],
   "source": [
    "def au_under_dwayn(y_test, lr_probs, model):\n",
    "    \n",
    "    # generate a no skill prediction (majority class)\n",
    "    ns_probs = [0 for _ in range(len(y_test))]\n",
    "    # keep probabilities for the positive outcome only\n",
    "    # calculate scores\n",
    "    ns_auc = roc_auc_score(y_test, ns_probs)\n",
    "    lr_auc = roc_auc_score(y_test, lr_probs)\n",
    "    # summarize scores\n",
    "    print('No Skill : ROC AUC=%.3f' % (ns_auc))\n",
    "    print(model,': ROC AUC=%.3f' % (lr_auc))\n",
    "    # calculate roc curves\n",
    "    ns_fpr, ns_tpr, _ = roc_curve(y_test, ns_probs)\n",
    "    lr_fpr, lr_tpr, _ = roc_curve(y_test, lr_probs)\n",
    "    # plot the roc curve for the model\n",
    "    pyplot.plot(ns_fpr, ns_tpr, linestyle='--', label='No Skill')\n",
    "    pyplot.plot(lr_fpr, lr_tpr, marker='.', label=model)\n",
    "    # axis labels\n",
    "    pyplot.xlabel('False Positive Rate')\n",
    "    pyplot.ylabel('True Positive Rate')\n",
    "    # show the legend\n",
    "    pyplot.legend()\n",
    "    # show the plot\n",
    "    pyplot.show()\n",
    "    \n",
    "    \n",
    "\n",
    "\n"
   ]
  },
  {
   "cell_type": "markdown",
   "metadata": {},
   "source": [
    "# Recogida y manejo de datos"
   ]
  },
  {
   "cell_type": "code",
   "execution_count": 36,
   "metadata": {},
   "outputs": [
    {
     "data": {
      "text/html": [
       "<div>\n",
       "<style scoped>\n",
       "    .dataframe tbody tr th:only-of-type {\n",
       "        vertical-align: middle;\n",
       "    }\n",
       "\n",
       "    .dataframe tbody tr th {\n",
       "        vertical-align: top;\n",
       "    }\n",
       "\n",
       "    .dataframe thead th {\n",
       "        text-align: right;\n",
       "    }\n",
       "</style>\n",
       "<table border=\"1\" class=\"dataframe\">\n",
       "  <thead>\n",
       "    <tr style=\"text-align: right;\">\n",
       "      <th></th>\n",
       "      <th>ph</th>\n",
       "      <th>Hardness</th>\n",
       "      <th>Solids</th>\n",
       "      <th>Chloramines</th>\n",
       "      <th>Sulfate</th>\n",
       "      <th>Conductivity</th>\n",
       "      <th>Organic_carbon</th>\n",
       "      <th>Trihalomethanes</th>\n",
       "      <th>Turbidity</th>\n",
       "      <th>Potability</th>\n",
       "    </tr>\n",
       "  </thead>\n",
       "  <tbody>\n",
       "    <tr>\n",
       "      <th>0</th>\n",
       "      <td>NaN</td>\n",
       "      <td>204.890455</td>\n",
       "      <td>20791.318981</td>\n",
       "      <td>7.300212</td>\n",
       "      <td>368.516441</td>\n",
       "      <td>564.308654</td>\n",
       "      <td>10.379783</td>\n",
       "      <td>86.990970</td>\n",
       "      <td>2.963135</td>\n",
       "      <td>0</td>\n",
       "    </tr>\n",
       "    <tr>\n",
       "      <th>1</th>\n",
       "      <td>3.716080</td>\n",
       "      <td>129.422921</td>\n",
       "      <td>18630.057858</td>\n",
       "      <td>6.635246</td>\n",
       "      <td>NaN</td>\n",
       "      <td>592.885359</td>\n",
       "      <td>15.180013</td>\n",
       "      <td>56.329076</td>\n",
       "      <td>4.500656</td>\n",
       "      <td>0</td>\n",
       "    </tr>\n",
       "    <tr>\n",
       "      <th>2</th>\n",
       "      <td>8.099124</td>\n",
       "      <td>224.236259</td>\n",
       "      <td>19909.541732</td>\n",
       "      <td>9.275884</td>\n",
       "      <td>NaN</td>\n",
       "      <td>418.606213</td>\n",
       "      <td>16.868637</td>\n",
       "      <td>66.420093</td>\n",
       "      <td>3.055934</td>\n",
       "      <td>0</td>\n",
       "    </tr>\n",
       "    <tr>\n",
       "      <th>3</th>\n",
       "      <td>8.316766</td>\n",
       "      <td>214.373394</td>\n",
       "      <td>22018.417441</td>\n",
       "      <td>8.059332</td>\n",
       "      <td>356.886136</td>\n",
       "      <td>363.266516</td>\n",
       "      <td>18.436524</td>\n",
       "      <td>100.341674</td>\n",
       "      <td>4.628771</td>\n",
       "      <td>0</td>\n",
       "    </tr>\n",
       "    <tr>\n",
       "      <th>4</th>\n",
       "      <td>9.092223</td>\n",
       "      <td>181.101509</td>\n",
       "      <td>17978.986339</td>\n",
       "      <td>6.546600</td>\n",
       "      <td>310.135738</td>\n",
       "      <td>398.410813</td>\n",
       "      <td>11.558279</td>\n",
       "      <td>31.997993</td>\n",
       "      <td>4.075075</td>\n",
       "      <td>0</td>\n",
       "    </tr>\n",
       "  </tbody>\n",
       "</table>\n",
       "</div>"
      ],
      "text/plain": [
       "         ph    Hardness        Solids  Chloramines     Sulfate  Conductivity  \\\n",
       "0       NaN  204.890455  20791.318981     7.300212  368.516441    564.308654   \n",
       "1  3.716080  129.422921  18630.057858     6.635246         NaN    592.885359   \n",
       "2  8.099124  224.236259  19909.541732     9.275884         NaN    418.606213   \n",
       "3  8.316766  214.373394  22018.417441     8.059332  356.886136    363.266516   \n",
       "4  9.092223  181.101509  17978.986339     6.546600  310.135738    398.410813   \n",
       "\n",
       "   Organic_carbon  Trihalomethanes  Turbidity  Potability  \n",
       "0       10.379783        86.990970   2.963135           0  \n",
       "1       15.180013        56.329076   4.500656           0  \n",
       "2       16.868637        66.420093   3.055934           0  \n",
       "3       18.436524       100.341674   4.628771           0  \n",
       "4       11.558279        31.997993   4.075075           0  "
      ]
     },
     "execution_count": 36,
     "metadata": {},
     "output_type": "execute_result"
    }
   ],
   "source": [
    "# Cargamos los datos\n",
    "datos = pd.read_csv(\"water_potability.csv\")\n",
    "datos.head()"
   ]
  },
  {
   "cell_type": "code",
   "execution_count": 37,
   "metadata": {},
   "outputs": [
    {
     "data": {
      "text/plain": [
       "ph                 491\n",
       "Hardness             0\n",
       "Solids               0\n",
       "Chloramines          0\n",
       "Sulfate            781\n",
       "Conductivity         0\n",
       "Organic_carbon       0\n",
       "Trihalomethanes    162\n",
       "Turbidity            0\n",
       "Potability           0\n",
       "dtype: int64"
      ]
     },
     "execution_count": 37,
     "metadata": {},
     "output_type": "execute_result"
    }
   ],
   "source": [
    "datos.isnull().sum()"
   ]
  },
  {
   "cell_type": "code",
   "execution_count": 38,
   "metadata": {},
   "outputs": [],
   "source": [
    "datos = datos.dropna()"
   ]
  },
  {
   "cell_type": "code",
   "execution_count": 39,
   "metadata": {},
   "outputs": [
    {
     "data": {
      "text/plain": [
       "<AxesSubplot:ylabel='Potability'>"
      ]
     },
     "execution_count": 39,
     "metadata": {},
     "output_type": "execute_result"
    },
    {
     "data": {
      "image/png": "[encoded data removed]",
      "text/plain": [
       "<Figure size 432x288 with 1 Axes>"
      ]
     },
     "metadata": {},
     "output_type": "display_data"
    }
   ],
   "source": [
    "datos.Potability.value_counts().plot(kind='pie')"
   ]
  },
  {
   "cell_type": "code",
   "execution_count": 40,
   "metadata": {},
   "outputs": [
    {
     "data": {
      "text/plain": [
       "<AxesSubplot:ylabel='Potability'>"
      ]
     },
     "execution_count": 40,
     "metadata": {},
     "output_type": "execute_result"
    },
    {
     "data": {
      "image/png": "[encoded data removed]",
      "text/plain": [
       "<Figure size 432x288 with 1 Axes>"
      ]
     },
     "metadata": {},
     "output_type": "display_data"
    }
   ],
   "source": [
    "zero  = datos[datos['Potability']==0]  \n",
    "one = datos[datos['Potability']==1] \n",
    "\n",
    "df_minority_upsampled = resample(one, replace = True, n_samples = 1200) \n",
    "\n",
    "datos = pd.concat([zero, df_minority_upsampled])\n",
    "datos = shuffle(datos) \n",
    "\n",
    "datos.Potability.value_counts().plot(kind='pie')"
   ]
  },
  {
   "cell_type": "code",
   "execution_count": 41,
   "metadata": {},
   "outputs": [],
   "source": [
    "X = datos.drop(['Potability'], axis = 1)\n",
    "y = datos['Potability']\n",
    "\n",
    "from sklearn.preprocessing import StandardScaler\n",
    "sc = StandardScaler()\n",
    "features= X.columns\n",
    "X[features] = sc.fit_transform(X[features])\n",
    "\n",
    "\n",
    "\n",
    "x_train, x_test, y_train, y_test = train_test_split(X,y, test_size = 0.2, random_state=1)\n",
    "\n",
    "ox_train = np.hstack([np.ones([np.shape(x_train)[0],1]),x_train])\n",
    "ox_test = np.hstack([np.ones([np.shape(x_test)[0],1]),x_test])"
   ]
  }
 ],
 "metadata": {
  "kernelspec": {
   "display_name": "Python 3",
   "language": "python",
   "name": "python3"
  },
  "language_info": {
   "codemirror_mode": {
    "name": "ipython",
    "version": 3
   },
   "file_extension": ".py",
   "mimetype": "text/x-python",
   "name": "python",
   "nbconvert_exporter": "python",
   "pygments_lexer": "ipython3",
   "version": "3.8.5"
  }
 },
 "nbformat": 4,
 "nbformat_minor": 4
}
