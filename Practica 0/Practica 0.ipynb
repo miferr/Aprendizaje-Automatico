{
 "cells": [
  {
   "cell_type": "markdown",
   "metadata": {},
   "source": [
    "# Esto es el titulo"
   ]
  },
  {
   "cell_type": "code",
   "execution_count": 29,
   "metadata": {},
   "outputs": [],
   "source": [
    "import numpy as np\n",
    "import matplotlib as plt\n",
    "from pylab import *\n",
    "import random\n",
    "from scipy import integrate\n",
    "import time"
   ]
  },
  {
   "cell_type": "code",
   "execution_count": 30,
   "metadata": {},
   "outputs": [],
   "source": [
    "def cuadrado(x):\n",
    "    return x*x\n",
    "\n",
    "#Hace un for de num_puntos y por cada iteracion crea un punto y comprueba si esta debajo de la integral\n",
    "#Devuelve el numero de puntos que lo cumplan\n",
    "def crear_puntos_bucle(a, b, M, num_puntos):\n",
    "    nDebajo = 0    \n",
    "    for i in range(num_puntos):\n",
    "        x = random.uniform(a, b)\n",
    "        y = random.uniform(0,M)\n",
    "        if(y <= cuadrado(x)): \n",
    "            nDebajo += 1\n",
    "\n",
    "        #Solo se printean algunos puntos\n",
    "        if (0 == random.randint(0,10)):\n",
    "            plt.plot(x,y, marker=\"x\", color=\"red\")\n",
    "        \n",
    "    return nDebajo\n",
    "\n",
    "#Crea dos vectores de tamaño num_puntos de numeros aleatorios en posiciones posibles para las cordenadas x, y\n",
    "#Devuelve el numero de puntos que cumplan la condicion y > fun(x) (esten debajo de la integral)\n",
    "def crear_puntos_vectores(a, b, M, num_puntos):\n",
    "    x = np.random.uniform(a, b, size=num_puntos)\n",
    "    y = np.random.uniform(0, M, size=num_puntos)\n",
    "    return np.count_nonzero(y < cuadrado(x))\n",
    "\n",
    "#Hemos hecho una funcion a parte ya que era mas sencillo calcular los tiempos si quitabamos la grafica\n",
    "def tiempos(a, b, M, num_puntos):\n",
    "    t1 = time.process_time()\n",
    "    nDebajo = 0    \n",
    "    for i in range(num_puntos):\n",
    "        x = random.uniform(a, b)\n",
    "        y = random.uniform(0,M)\n",
    "        if(y <= cuadrado(x)): \n",
    "            nDebajo += 1\n",
    "    t2 = time.process_time()\n",
    "    print(\"El tiempo se tarda con un bucle es: \" + str((t2 - t1) *1000))\n",
    "    t1 = time.process_time()\n",
    "    x = np.random.uniform(a, b, size=num_puntos)\n",
    "    y = np.random.uniform(0, M, size=num_puntos)\n",
    "    np.count_nonzero(y < cuadrado(x))\n",
    "    t2 = time.process_time()\n",
    "    print(\"El tiempo se tarda con vectores es: \" + str((t2 - t1) *1000))\n"
   ]
  },
  {
   "cell_type": "code",
   "execution_count": 31,
   "metadata": {},
   "outputs": [],
   "source": [
    "def integra_mc(fun, a, b, num_puntos):\n",
    "    figure(figsize=(15,6))\n",
    "    \n",
    "    M = fun(b)\n",
    "    base = b - a    \n",
    "    nDebajo = crear_puntos_bucle(a, b, M, num_puntos)\n",
    "            \n",
    "    #Parte para graficar\n",
    "    plt.xlim(0, 6)\n",
    "    plt.ylim(0, 27)\n",
    "    x = arange(0, 7, 1)\n",
    "    plt.plot(x**2)\n",
    "    plt.legend([\"\"\"    La grafica \n",
    "    se ha hecho\n",
    "    con 1 de cada \n",
    "    diez puntos \n",
    "    creados para que \n",
    "    sea visible\"\"\"])\n",
    "    #Fin de la grafica\n",
    "    tiempos(a, b, M, num_puntos)\n",
    "        \n",
    "    return (nDebajo/num_puntos) * base * M"
   ]
  },
  {
   "cell_type": "code",
   "execution_count": null,
   "metadata": {},
   "outputs": [],
   "source": [
    "n_puntos = 10000\n",
    "print(\"Nuestro resultado: \" + str(integra_mc(cuadrado, 0, 5, n_puntos)) + \" y el resultado de sicpy: \" + str(integrate.quad(cuadrado, 0, 5)[0]))"
   ]
  }
 ],
 "metadata": {
  "kernelspec": {
   "display_name": "Python 3",
   "language": "python",
   "name": "python3"
  },
  "language_info": {
   "codemirror_mode": {
    "name": "ipython",
    "version": 3
   },
   "file_extension": ".py",
   "mimetype": "text/x-python",
   "name": "python",
   "nbconvert_exporter": "python",
   "pygments_lexer": "ipython3",
   "version": "3.8.5"
  }
 },
 "nbformat": 4,
 "nbformat_minor": 4
}
