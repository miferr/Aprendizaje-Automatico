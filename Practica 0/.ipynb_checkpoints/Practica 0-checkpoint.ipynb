{
 "cells": [
  {
   "cell_type": "markdown",
   "metadata": {},
   "source": [
    "# Esto es el titulo"
   ]
  },
  {
   "cell_type": "code",
   "execution_count": 5,
   "metadata": {},
   "outputs": [],
   "source": [
    "import numpy as np\n",
    "import random\n",
    "import scipy"
   ]
  },
  {
   "cell_type": "code",
   "execution_count": 7,
   "metadata": {},
   "outputs": [],
   "source": [
    "def cuadrado(x):\n",
    "    return x*x\n",
    "\n",
    "def mayor(a,b):\n",
    "    return max(a,b)"
   ]
  },
  {
   "cell_type": "code",
   "execution_count": null,
   "metadata": {},
   "outputs": [],
   "source": [
    "#   Esta es la primera práctica de la asignatura AA\n",
    "\n",
    "def integra_mc(fun, a, b, num_puntos=10000):\n",
    "    M = fun(b)\n",
    "    base = b - a\n",
    "    nDebajo = 0\n",
    "    for i in range(num_puntos):\n",
    "        x = random.randrange(a,b)\n",
    "        y = random.randrange(0,M)\n",
    "        if(y <= fun(x)): \n",
    "            nDebajo += 1\n",
    "    return (nDebajo/num_puntos) * base * M\n",
    "\n",
    "\n",
    "print(\"Nuestro resultado: \"+integra_mc(cuadrado, 0, 5)+ \"y el resultado de sicpy: \"+scipy.integrate.quad(cuadrado, 0, 5)[0])"
   ]
  }
 ],
 "metadata": {
  "kernelspec": {
   "display_name": "Python 3",
   "language": "python",
   "name": "python3"
  },
  "language_info": {
   "codemirror_mode": {
    "name": "ipython",
    "version": 3
   },
   "file_extension": ".py",
   "mimetype": "text/x-python",
   "name": "python",
   "nbconvert_exporter": "python",
   "pygments_lexer": "ipython3",
   "version": "3.8.5"
  }
 },
 "nbformat": 4,
 "nbformat_minor": 4
}
