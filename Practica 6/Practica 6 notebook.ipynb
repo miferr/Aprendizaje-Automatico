{
 "cells": [
  {
   "cell_type": "markdown",
   "metadata": {},
   "source": [
    "# Practica 6"
   ]
  },
  {
   "cell_type": "markdown",
   "metadata": {},
   "source": [
    "### Librerias y carga de datos"
   ]
  },
  {
   "cell_type": "code",
   "execution_count": 1,
   "metadata": {},
   "outputs": [],
   "source": [
    "#   Librerias\n",
    "from scipy.io import loadmat\n",
    "import matplotlib.pyplot as plt\n",
    "import numpy as np\n",
    "from sklearn.svm import SVC\n",
    "from sklearn.metrics import accuracy_score\n",
    "from codecs import open\n",
    "import get_vocab_dict as vodi\n",
    "import process_email as poem\n",
    "from sklearn.model_selection import train_test_split\n",
    "\n",
    "\n",
    "#   Numero de correos por carpeta\n",
    "n_spam = 500\n",
    "n_easy_ham = 2551\n",
    "n_hard_ham = 250\n",
    "\n",
    "dic = vodi.getVocabDict()\n",
    "n_words = len(dic)\n",
    "\n",
    "def parse_name(number):\n",
    "    while(len(str(number)) < 4):\n",
    "          number = '0' + str(number)\n",
    "    return str(number)\n",
    "\n",
    "def create_X(n_emails, name_folder):\n",
    "    X = np.array\n",
    "    for i in range(1, n_emails + 1):\n",
    "        email_contents = open(name_folder+'/'+parse_name(i)+'.txt', 'r', encoding='utf-8', errors='ignore').read()\n",
    "        email = poem.email2TokenList(email_contents)\n",
    "        Xn = np.zeros(n_words)\n",
    "        for word in email:\n",
    "            if word in dic:\n",
    "                Xn[dic[word] - 1] = 1\n",
    "        if i == 1:\n",
    "            X = Xn\n",
    "        else:\n",
    "            X = np.vstack([X, Xn])\n",
    "    return X\n"
   ]
  },
  {
   "cell_type": "markdown",
   "metadata": {},
   "source": [
    "A continuacion construimos los conjuntos de entrenamiento y validacion"
   ]
  },
  {
   "cell_type": "code",
   "execution_count": 2,
   "metadata": {},
   "outputs": [],
   "source": [
    "X_train, X_test, y_train, y_test = train_test_split( create_X(n_spam, 'spam'), np.ones(n_spam), test_size=0.2, random_state=0)"
   ]
  },
  {
   "cell_type": "code",
   "execution_count": 3,
   "metadata": {},
   "outputs": [],
   "source": [
    "X_train_aux, X_test_aux, y_train_aux, y_test_aux = train_test_split( create_X(n_easy_ham, \"easy_ham\"), np.zeros(n_easy_ham), test_size=0.2, random_state=0)"
   ]
  },
  {
   "cell_type": "code",
   "execution_count": 4,
   "metadata": {},
   "outputs": [],
   "source": [
    "X_train = np.vstack([X_train, X_train_aux])\n",
    "X_test = np.vstack([X_test, X_test_aux])\n",
    "y_train = np.append(y_train, y_train_aux)\n",
    "y_test = np.append(y_test, y_test_aux)"
   ]
  },
  {
   "cell_type": "code",
   "execution_count": 5,
   "metadata": {},
   "outputs": [],
   "source": [
    "X_train_aux, X_test_aux, y_train_aux, y_test_aux = train_test_split( create_X(n_hard_ham, \"hard_ham\"), np.zeros(n_hard_ham), test_size=0.2, random_state=0)"
   ]
  },
  {
   "cell_type": "code",
   "execution_count": 6,
   "metadata": {},
   "outputs": [],
   "source": [
    "X_train = np.vstack([X_train, X_train_aux])\n",
    "X_test = np.vstack([X_test, X_test_aux])\n",
    "y_train = np.append(y_train, y_train_aux)\n",
    "y_test = np.append(y_test, y_test_aux)"
   ]
  },
  {
   "cell_type": "markdown",
   "metadata": {},
   "source": [
    "Calculamos la mejor c y sigma"
   ]
  },
  {
   "cell_type": "code",
   "execution_count": 151,
   "metadata": {},
   "outputs": [
    {
     "name": "stdout",
     "output_type": "stream",
     "text": [
      "0.01 0.01 acuraccy:  0.8593530239099859\n",
      "0.01 0.03 acuraccy:  0.8593530239099859\n",
      "0.01 0.1 acuraccy:  0.8593530239099859\n",
      "0.01 0.3 acuraccy:  0.8593530239099859\n",
      "0.01 1 acuraccy:  0.8593530239099859\n",
      "0.01 3 acuraccy:  0.8593530239099859\n",
      "0.01 10 acuraccy:  0.8593530239099859\n",
      "0.01 30 acuraccy:  0.8593530239099859\n",
      "0.03 0.01 acuraccy:  0.8593530239099859\n",
      "0.03 0.03 acuraccy:  0.8593530239099859\n",
      "0.03 0.1 acuraccy:  0.8593530239099859\n",
      "0.03 0.3 acuraccy:  0.8593530239099859\n",
      "0.03 1 acuraccy:  0.8593530239099859\n",
      "0.03 3 acuraccy:  0.8593530239099859\n",
      "0.03 10 acuraccy:  0.8593530239099859\n",
      "0.03 30 acuraccy:  0.8593530239099859\n",
      "0.1 0.01 acuraccy:  0.8593530239099859\n",
      "0.1 0.03 acuraccy:  0.8593530239099859\n",
      "0.1 0.1 acuraccy:  0.8593530239099859\n",
      "0.1 0.3 acuraccy:  0.8593530239099859\n",
      "0.1 1 acuraccy:  0.8607594936708861\n",
      "0.1 3 acuraccy:  0.8607594936708861\n",
      "0.1 10 acuraccy:  0.8748241912798875\n",
      "0.1 30 acuraccy:  0.8593530239099859\n",
      "0.3 0.01 acuraccy:  0.8621659634317862\n",
      "0.3 0.03 acuraccy:  0.8621659634317862\n",
      "0.3 0.1 acuraccy:  0.8621659634317862\n",
      "0.3 0.3 acuraccy:  0.8621659634317862\n",
      "0.3 1 acuraccy:  0.8635724331926864\n",
      "0.3 3 acuraccy:  0.8832630098452883\n",
      "0.3 10 acuraccy:  0.9549929676511955\n",
      "0.3 30 acuraccy:  0.8593530239099859\n",
      "1 0.01 acuraccy:  0.9043600562587905\n",
      "1 0.03 acuraccy:  0.9043600562587905\n",
      "1 0.1 acuraccy:  0.9043600562587905\n",
      "1 0.3 acuraccy:  0.9043600562587905\n",
      "1 1 acuraccy:  0.9071729957805907\n",
      "1 3 acuraccy:  0.9381153305203939\n",
      "1 10 acuraccy:  0.9718706047819972\n",
      "1 30 acuraccy:  0.9226441631504922\n",
      "3 0.01 acuraccy:  0.9043600562587905\n",
      "3 0.03 acuraccy:  0.9043600562587905\n",
      "3 0.1 acuraccy:  0.9043600562587905\n",
      "3 0.3 acuraccy:  0.9043600562587905\n",
      "3 1 acuraccy:  0.9156118143459916\n",
      "3 3 acuraccy:  0.9437412095639943\n",
      "3 10 acuraccy:  0.980309423347398\n",
      "3 30 acuraccy:  0.9563994374120957\n",
      "10 0.01 acuraccy:  0.9043600562587905\n",
      "10 0.03 acuraccy:  0.9043600562587905\n",
      "10 0.1 acuraccy:  0.9043600562587905\n",
      "10 0.3 acuraccy:  0.9043600562587905\n",
      "10 1 acuraccy:  0.9156118143459916\n",
      "10 3 acuraccy:  0.9451476793248945\n",
      "10 10 acuraccy:  0.9831223628691983\n",
      "10 30 acuraccy:  0.9718706047819972\n",
      "30 0.01 acuraccy:  0.9043600562587905\n",
      "30 0.03 acuraccy:  0.9043600562587905\n",
      "30 0.1 acuraccy:  0.9043600562587905\n",
      "30 0.3 acuraccy:  0.9043600562587905\n",
      "30 1 acuraccy:  0.9156118143459916\n",
      "30 3 acuraccy:  0.9437412095639943\n",
      "30 10 acuraccy:  0.9859353023909986\n",
      "30 30 acuraccy:  0.9760900140646976\n"
     ]
    }
   ],
   "source": [
    "#def best_C_sigma(X, y_test, X_test, y_test):\n",
    "values = [0.01, 0.03, 0.1, 0.3, 1, 3, 10, 30]\n",
    "best_C = 0\n",
    "best_sigma = 0\n",
    "best_acc = 0\n",
    "for C in values:\n",
    "    for sigma in values:\n",
    "        svm = SVC(kernel='rbf', C=C, gamma=1 / (2 * sigma**2))\n",
    "        svm.fit(X_train, y_train)\n",
    "        acc = accuracy_score(y_test, svm.predict(X_test))\n",
    "        print(C,sigma, \"acuraccy: \", acc)\n",
    "        if acc >= best_acc:\n",
    "            best_C = C\n",
    "            best_sigma = sigma\n",
    "            best_acc = acc"
   ]
  },
  {
   "cell_type": "code",
   "execution_count": 152,
   "metadata": {},
   "outputs": [
    {
     "name": "stdout",
     "output_type": "stream",
     "text": [
      "0.9859353023909986 30 10\n"
     ]
    }
   ],
   "source": [
    "print(best_acc, best_C, best_sigma)"
   ]
  },
  {
   "cell_type": "code",
   "execution_count": 8,
   "metadata": {},
   "outputs": [
    {
     "data": {
      "text/plain": [
       "0.9924357034795764"
      ]
     },
     "execution_count": 8,
     "metadata": {},
     "output_type": "execute_result"
    }
   ],
   "source": [
    "svm = SVC(kernel='rbf', C=30, gamma=1 / (2 * 10**2))\n",
    "svm.fit(X_train, y_train)\n",
    "acc = accuracy_score(y_test, svm.predict(X_test))\n",
    "acc"
   ]
  }
 ],
 "metadata": {
  "kernelspec": {
   "display_name": "Python 3",
   "language": "python",
   "name": "python3"
  },
  "language_info": {
   "codemirror_mode": {
    "name": "ipython",
    "version": 3
   },
   "file_extension": ".py",
   "mimetype": "text/x-python",
   "name": "python",
   "nbconvert_exporter": "python",
   "pygments_lexer": "ipython3",
   "version": "3.8.5"
  }
 },
 "nbformat": 4,
 "nbformat_minor": 4
}
